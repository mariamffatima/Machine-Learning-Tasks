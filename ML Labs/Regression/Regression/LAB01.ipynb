{
 "cells": [
  {
   "cell_type": "markdown",
   "id": "48d85138-defb-4adf-b9a4-a044c4dd8838",
   "metadata": {},
   "source": [
    "# Linear Regression with One Variable"
   ]
  },
  {
   "cell_type": "markdown",
   "id": "b90bb532-cb0f-4e91-965a-a2ee61bb3e2a",
   "metadata": {},
   "source": [
    "Suppose you are the CEO of a restaurant franchise and are considering different cities for opening a new outlet. The chain already has trucks in various cities and you have data for profits and populations from the cities. The file **ex1data1.txt** (available under week 2's assignment material) contains the dataset for our linear regression exercise. The first column is the population of a city and the second column is the profit of a food truck in that city. A negative value for profit indicates a loss."
   ]
  },
  {
   "cell_type": "code",
   "execution_count": 8,
   "id": "471f7c8f-767c-4e3f-a9a1-6cf9e1e5d98b",
   "metadata": {},
   "outputs": [],
   "source": [
    "# !pip install matplotlib"
   ]
  },
  {
   "cell_type": "code",
   "execution_count": 40,
   "id": "e9cd5e63-e378-4afd-9272-b57e03b98551",
   "metadata": {},
   "outputs": [],
   "source": [
    "import numpy as np # linear algebra\n",
    "import pandas as pd # data processing, CSV file I/O (e.g. pd.read_csv)\n",
    "import matplotlib.pyplot as plt"
   ]
  },
  {
   "cell_type": "code",
   "execution_count": 41,
   "id": "3334e1dc-0a16-4fc9-8165-9c0191c7d632",
   "metadata": {},
   "outputs": [
    {
     "data": {
      "text/html": [
       "<div>\n",
       "<style scoped>\n",
       "    .dataframe tbody tr th:only-of-type {\n",
       "        vertical-align: middle;\n",
       "    }\n",
       "\n",
       "    .dataframe tbody tr th {\n",
       "        vertical-align: top;\n",
       "    }\n",
       "\n",
       "    .dataframe thead th {\n",
       "        text-align: right;\n",
       "    }\n",
       "</style>\n",
       "<table border=\"1\" class=\"dataframe\">\n",
       "  <thead>\n",
       "    <tr style=\"text-align: right;\">\n",
       "      <th></th>\n",
       "      <th>0</th>\n",
       "      <th>1</th>\n",
       "    </tr>\n",
       "  </thead>\n",
       "  <tbody>\n",
       "    <tr>\n",
       "      <th>0</th>\n",
       "      <td>6.1101</td>\n",
       "      <td>17.5920</td>\n",
       "    </tr>\n",
       "    <tr>\n",
       "      <th>1</th>\n",
       "      <td>5.5277</td>\n",
       "      <td>9.1302</td>\n",
       "    </tr>\n",
       "    <tr>\n",
       "      <th>2</th>\n",
       "      <td>8.5186</td>\n",
       "      <td>13.6620</td>\n",
       "    </tr>\n",
       "    <tr>\n",
       "      <th>3</th>\n",
       "      <td>7.0032</td>\n",
       "      <td>11.8540</td>\n",
       "    </tr>\n",
       "    <tr>\n",
       "      <th>4</th>\n",
       "      <td>5.8598</td>\n",
       "      <td>6.8233</td>\n",
       "    </tr>\n",
       "  </tbody>\n",
       "</table>\n",
       "</div>"
      ],
      "text/plain": [
       "        0        1\n",
       "0  6.1101  17.5920\n",
       "1  5.5277   9.1302\n",
       "2  8.5186  13.6620\n",
       "3  7.0032  11.8540\n",
       "4  5.8598   6.8233"
      ]
     },
     "execution_count": 41,
     "metadata": {},
     "output_type": "execute_result"
    }
   ],
   "source": [
    "data = pd.read_csv('ex1data1.txt', header=None) #read from dataset\n",
    "X = data.iloc[:,0] # read first column\n",
    "y = data.iloc[:,1] # read second column\n",
    "m = len(y) # number of training example\n",
    "data.head() # view first few rows of the data"
   ]
  },
  {
   "cell_type": "markdown",
   "id": "3c1340fc-fa17-4242-bf41-52ee8e589b51",
   "metadata": {},
   "source": [
    "### Plot Dataset using scatter to visualize the pattern in it"
   ]
  },
  {
   "cell_type": "code",
   "execution_count": 42,
   "id": "9628b59c-8bee-45fb-8f67-b9cc4fba1e69",
   "metadata": {},
   "outputs": [
    {
     "data": {
      "image/png": "[encoded data removed]",
      "text/plain": [
       "<Figure size 640x480 with 1 Axes>"
      ]
     },
     "metadata": {},
     "output_type": "display_data"
    }
   ],
   "source": [
    "# Plot Data\n",
    "plt.scatter(X, y)\n",
    "\n",
    "plt.xlabel('Population of City in 10,000s')\n",
    "plt.ylabel('Profit in $10,000s')\n",
    "plt.show()"
   ]
  },
  {
   "cell_type": "markdown",
   "id": "0c2db7f4-f4fb-40cf-98b0-a14311aed1cf",
   "metadata": {},
   "source": [
    "### Add Intercept and Parameters initilization\n",
    "\n",
    "we add another dimension to our data to accommodate the intercept term (the reason for doing this is explained in the videos). We also initialize the initial parameters theta to 0 and the learning rate alpha to 0.01."
   ]
  },
  {
   "cell_type": "code",
   "execution_count": 43,
   "id": "4f66845d-a259-4183-9090-7705e90dc1d1",
   "metadata": {},
   "outputs": [],
   "source": [
    "#### DONT CHANGE THIS CODE ####\n",
    "X = np.array(X)\n",
    "y = np.array(y)\n",
    "X = X[:,np.newaxis]\n",
    "y = y[:,np.newaxis]\n",
    "# Hyperparameters\n",
    "iterations = 1500\n",
    "alpha = 0.01"
   ]
  },
  {
   "cell_type": "code",
   "execution_count": 44,
   "id": "1661bcaa-ff0b-41ac-861b-8dc5c8db173b",
   "metadata": {},
   "outputs": [],
   "source": [
    "## Write the code ##\n",
    "# Initlize Parameters () to ZERO\n",
    "\n",
    "# Initilize one to be multiplied with intercept\n",
    "\n",
    "# Stack ones withe actual data set as it will look like following output.\n",
    "X = np.hstack((np.ones((m, 1)), X))\n",
    "theta = np.zeros((2, 1))"
   ]
  },
  {
   "cell_type": "code",
   "execution_count": 45,
   "id": "661dab7a-d05a-4103-9e7b-6adad0ecf91d",
   "metadata": {},
   "outputs": [
    {
     "data": {
      "text/plain": [
       "array([[ 1.    ,  6.1101],\n",
       "       [ 1.    ,  5.5277],\n",
       "       [ 1.    ,  8.5186],\n",
       "       [ 1.    ,  7.0032],\n",
       "       [ 1.    ,  5.8598],\n",
       "       [ 1.    ,  8.3829],\n",
       "       [ 1.    ,  7.4764],\n",
       "       [ 1.    ,  8.5781],\n",
       "       [ 1.    ,  6.4862],\n",
       "       [ 1.    ,  5.0546],\n",
       "       [ 1.    ,  5.7107],\n",
       "       [ 1.    , 14.164 ],\n",
       "       [ 1.    ,  5.734 ],\n",
       "       [ 1.    ,  8.4084],\n",
       "       [ 1.    ,  5.6407],\n",
       "       [ 1.    ,  5.3794],\n",
       "       [ 1.    ,  6.3654],\n",
       "       [ 1.    ,  5.1301],\n",
       "       [ 1.    ,  6.4296],\n",
       "       [ 1.    ,  7.0708],\n",
       "       [ 1.    ,  6.1891],\n",
       "       [ 1.    , 20.27  ],\n",
       "       [ 1.    ,  5.4901],\n",
       "       [ 1.    ,  6.3261],\n",
       "       [ 1.    ,  5.5649],\n",
       "       [ 1.    , 18.945 ],\n",
       "       [ 1.    , 12.828 ],\n",
       "       [ 1.    , 10.957 ],\n",
       "       [ 1.    , 13.176 ],\n",
       "       [ 1.    , 22.203 ],\n",
       "       [ 1.    ,  5.2524],\n",
       "       [ 1.    ,  6.5894],\n",
       "       [ 1.    ,  9.2482],\n",
       "       [ 1.    ,  5.8918],\n",
       "       [ 1.    ,  8.2111],\n",
       "       [ 1.    ,  7.9334],\n",
       "       [ 1.    ,  8.0959],\n",
       "       [ 1.    ,  5.6063],\n",
       "       [ 1.    , 12.836 ],\n",
       "       [ 1.    ,  6.3534],\n",
       "       [ 1.    ,  5.4069],\n",
       "       [ 1.    ,  6.8825],\n",
       "       [ 1.    , 11.708 ],\n",
       "       [ 1.    ,  5.7737],\n",
       "       [ 1.    ,  7.8247],\n",
       "       [ 1.    ,  7.0931],\n",
       "       [ 1.    ,  5.0702],\n",
       "       [ 1.    ,  5.8014],\n",
       "       [ 1.    , 11.7   ],\n",
       "       [ 1.    ,  5.5416],\n",
       "       [ 1.    ,  7.5402],\n",
       "       [ 1.    ,  5.3077],\n",
       "       [ 1.    ,  7.4239],\n",
       "       [ 1.    ,  7.6031],\n",
       "       [ 1.    ,  6.3328],\n",
       "       [ 1.    ,  6.3589],\n",
       "       [ 1.    ,  6.2742],\n",
       "       [ 1.    ,  5.6397],\n",
       "       [ 1.    ,  9.3102],\n",
       "       [ 1.    ,  9.4536],\n",
       "       [ 1.    ,  8.8254],\n",
       "       [ 1.    ,  5.1793],\n",
       "       [ 1.    , 21.279 ],\n",
       "       [ 1.    , 14.908 ],\n",
       "       [ 1.    , 18.959 ],\n",
       "       [ 1.    ,  7.2182],\n",
       "       [ 1.    ,  8.2951],\n",
       "       [ 1.    , 10.236 ],\n",
       "       [ 1.    ,  5.4994],\n",
       "       [ 1.    , 20.341 ],\n",
       "       [ 1.    , 10.136 ],\n",
       "       [ 1.    ,  7.3345],\n",
       "       [ 1.    ,  6.0062],\n",
       "       [ 1.    ,  7.2259],\n",
       "       [ 1.    ,  5.0269],\n",
       "       [ 1.    ,  6.5479],\n",
       "       [ 1.    ,  7.5386],\n",
       "       [ 1.    ,  5.0365],\n",
       "       [ 1.    , 10.274 ],\n",
       "       [ 1.    ,  5.1077],\n",
       "       [ 1.    ,  5.7292],\n",
       "       [ 1.    ,  5.1884],\n",
       "       [ 1.    ,  6.3557],\n",
       "       [ 1.    ,  9.7687],\n",
       "       [ 1.    ,  6.5159],\n",
       "       [ 1.    ,  8.5172],\n",
       "       [ 1.    ,  9.1802],\n",
       "       [ 1.    ,  6.002 ],\n",
       "       [ 1.    ,  5.5204],\n",
       "       [ 1.    ,  5.0594],\n",
       "       [ 1.    ,  5.7077],\n",
       "       [ 1.    ,  7.6366],\n",
       "       [ 1.    ,  5.8707],\n",
       "       [ 1.    ,  5.3054],\n",
       "       [ 1.    ,  8.2934],\n",
       "       [ 1.    , 13.394 ],\n",
       "       [ 1.    ,  5.4369]])"
      ]
     },
     "execution_count": 45,
     "metadata": {},
     "output_type": "execute_result"
    }
   ],
   "source": [
    "X"
   ]
  },
  {
   "cell_type": "code",
   "execution_count": 46,
   "id": "1720d863-c2c4-4a6a-9355-67532633b83f",
   "metadata": {},
   "outputs": [
    {
     "data": {
      "text/plain": [
       "array([[0.],\n",
       "       [0.]])"
      ]
     },
     "execution_count": 46,
     "metadata": {},
     "output_type": "execute_result"
    }
   ],
   "source": [
    "theta # Intialized Theta should be ZERO."
   ]
  },
  {
   "cell_type": "markdown",
   "id": "79286026-0881-45c6-b555-cc3e7b76b712",
   "metadata": {},
   "source": [
    "### COST FUNCTION ####\n",
    "Implement the MSE cost function for above mentioned dataset. The formula is as followed.\n",
    "![Mean_Squared_Error](res/MSE.png \"MSE\")\n"
   ]
  },
  {
   "cell_type": "code",
   "execution_count": 47,
   "id": "2d787739-2d2b-4dcb-ad18-e0db76e8fe9f",
   "metadata": {},
   "outputs": [],
   "source": [
    "def computeCost(X, y, theta):\n",
    "    m = len(y)\n",
    "    predictions = X.dot(theta)\n",
    "    errors = predictions - y\n",
    "    cost = (1 / (2 * m)) * np.sum(errors**2)\n",
    "    return cost"
   ]
  },
  {
   "cell_type": "code",
   "execution_count": 48,
   "id": "39fcef14-4d76-402e-a377-d6a72df53a10",
   "metadata": {},
   "outputs": [
    {
     "name": "stdout",
     "output_type": "stream",
     "text": [
      "32.072733877455676\n"
     ]
    }
   ],
   "source": [
    "# Initial Cost\n",
    "J = computeCost(X, y, theta)\n",
    "print(J)"
   ]
  },
  {
   "cell_type": "markdown",
   "id": "a9f35e08-dc82-4c9d-997b-29735f9ada70",
   "metadata": {},
   "source": [
    "### Finding the optimal parameters using Gradient Descent¶\n",
    "The Paritial Derivative of the Cost function is: \n",
    "![derivatives](res/derivatives.png \"MSE\")"
   ]
  },
  {
   "cell_type": "code",
   "execution_count": 49,
   "id": "ce71968f-df87-4800-ae3f-638e45556edb",
   "metadata": {},
   "outputs": [
    {
     "name": "stdout",
     "output_type": "stream",
     "text": [
      "Theta: [[-3.63029144]\n",
      " [ 1.16636235]]\n"
     ]
    }
   ],
   "source": [
    "### WRITE CODE HERE ###\n",
    "# NOTE:- According to passed parameters .\n",
    "# Hint:- Don't Directly update the actual theta but use temp variable during update.\n",
    "\n",
    "def gradientDescent(X, y, theta, alpha, iterations):\n",
    "    m = len(y)\n",
    "    for _ in range(iterations):\n",
    "        gradients = (1 / m) * X.T.dot(X.dot(theta) - y)\n",
    "        theta -= alpha * gradients\n",
    "    return theta\n",
    "\n",
    "theta = gradientDescent(X, y, theta, alpha, iterations)\n",
    "print(\"Theta:\", theta)"
   ]
  },
  {
   "cell_type": "markdown",
   "id": "642ab9ab-8f7b-4a99-bba2-cfb78de4ffd9",
   "metadata": {},
   "source": [
    "Expected theta values [-3.6303, 1.1664]\n",
    "\n"
   ]
  },
  {
   "cell_type": "code",
   "execution_count": 50,
   "id": "3c51d735-8f2b-4f58-a2b5-762a0f2b78d4",
   "metadata": {},
   "outputs": [
    {
     "name": "stdout",
     "output_type": "stream",
     "text": [
      "Final Cost: 4.483388256587725\n"
     ]
    }
   ],
   "source": [
    "# Calculate the Cost after converging of thetas for number of iterations.\n",
    "J = computeCost(X, y, theta)\n",
    "print(\"Final Cost:\", J)"
   ]
  },
  {
   "cell_type": "markdown",
   "id": "6d55cdcb-9ced-47c5-83d6-fff727f2676b",
   "metadata": {},
   "source": [
    "### Plot showing the best fit line¶\n"
   ]
  },
  {
   "cell_type": "code",
   "execution_count": 51,
   "id": "83aaea0e-2888-4c91-a1ff-3864e021e9c7",
   "metadata": {},
   "outputs": [
    {
     "data": {
      "image/png": "[encoded data removed]",
      "text/plain": [
       "<Figure size 640x480 with 1 Axes>"
      ]
     },
     "metadata": {},
     "output_type": "display_data"
    }
   ],
   "source": [
    "plt.scatter(X[:, 1], y)\n",
    "plt.xlabel('Population of City in 10,000s')\n",
    "plt.ylabel('Profit in $10,000s')\n",
    "plt.plot(X[:, 1], np.dot(X, theta), color='red')\n",
    "plt.savefig('graph.png')\n",
    "plt.show()"
   ]
  },
  {
   "cell_type": "markdown",
   "id": "ad12c1ed-290d-4a14-86ee-475cd3e4829f",
   "metadata": {},
   "source": []
  },
  {
   "cell_type": "markdown",
   "id": "bf6680f4-259f-4f5b-95b8-b4d246da7612",
   "metadata": {},
   "source": [
    "## Linear Regression with Multiple Predictors (Variable)"
   ]
  },
  {
   "cell_type": "markdown",
   "id": "dcca4b24-0d5b-4997-841f-6cd90bb1eec6",
   "metadata": {},
   "source": [
    "**Problem context:** Suppose you are selling your house and you want to know what a good market price would be. One way to do this is to first collect information on recent houses sold and make a model of housing prices. Your job is to predict housing prices based on other variables.\n",
    "\n",
    "\n",
    "The first column is the **size of the house (in square feet)**, the second column is the **number of bedrooms**, and the third column is the **price** of the house."
   ]
  },
  {
   "cell_type": "code",
   "execution_count": 71,
   "id": "ba34aa9c-8fa1-499f-ba34-c823a613238a",
   "metadata": {},
   "outputs": [
    {
     "data": {
      "text/html": [
       "<div>\n",
       "<style scoped>\n",
       "    .dataframe tbody tr th:only-of-type {\n",
       "        vertical-align: middle;\n",
       "    }\n",
       "\n",
       "    .dataframe tbody tr th {\n",
       "        vertical-align: top;\n",
       "    }\n",
       "\n",
       "    .dataframe thead th {\n",
       "        text-align: right;\n",
       "    }\n",
       "</style>\n",
       "<table border=\"1\" class=\"dataframe\">\n",
       "  <thead>\n",
       "    <tr style=\"text-align: right;\">\n",
       "      <th></th>\n",
       "      <th>0</th>\n",
       "      <th>1</th>\n",
       "      <th>2</th>\n",
       "    </tr>\n",
       "  </thead>\n",
       "  <tbody>\n",
       "    <tr>\n",
       "      <th>0</th>\n",
       "      <td>2104</td>\n",
       "      <td>3</td>\n",
       "      <td>399900</td>\n",
       "    </tr>\n",
       "    <tr>\n",
       "      <th>1</th>\n",
       "      <td>1600</td>\n",
       "      <td>3</td>\n",
       "      <td>329900</td>\n",
       "    </tr>\n",
       "    <tr>\n",
       "      <th>2</th>\n",
       "      <td>2400</td>\n",
       "      <td>3</td>\n",
       "      <td>369000</td>\n",
       "    </tr>\n",
       "    <tr>\n",
       "      <th>3</th>\n",
       "      <td>1416</td>\n",
       "      <td>2</td>\n",
       "      <td>232000</td>\n",
       "    </tr>\n",
       "    <tr>\n",
       "      <th>4</th>\n",
       "      <td>3000</td>\n",
       "      <td>4</td>\n",
       "      <td>539900</td>\n",
       "    </tr>\n",
       "  </tbody>\n",
       "</table>\n",
       "</div>"
      ],
      "text/plain": [
       "      0  1       2\n",
       "0  2104  3  399900\n",
       "1  1600  3  329900\n",
       "2  2400  3  369000\n",
       "3  1416  2  232000\n",
       "4  3000  4  539900"
      ]
     },
     "execution_count": 71,
     "metadata": {},
     "output_type": "execute_result"
    }
   ],
   "source": [
    "data = pd.read_csv('ex1data2.txt', sep = ',', header = None)\n",
    "X = data.iloc[:,0:2] # read first two columns into X\n",
    "y = data.iloc[:,2] # read the third column into y\n",
    "m = len(y) # no. of training samples\n",
    "data.head()"
   ]
  },
  {
   "cell_type": "code",
   "execution_count": 72,
   "id": "6b2a7387-2ebb-49c7-87c7-42c7a18687c9",
   "metadata": {},
   "outputs": [
    {
     "data": {
      "text/html": [
       "<div>\n",
       "<style scoped>\n",
       "    .dataframe tbody tr th:only-of-type {\n",
       "        vertical-align: middle;\n",
       "    }\n",
       "\n",
       "    .dataframe tbody tr th {\n",
       "        vertical-align: top;\n",
       "    }\n",
       "\n",
       "    .dataframe thead th {\n",
       "        text-align: right;\n",
       "    }\n",
       "</style>\n",
       "<table border=\"1\" class=\"dataframe\">\n",
       "  <thead>\n",
       "    <tr style=\"text-align: right;\">\n",
       "      <th></th>\n",
       "      <th>0</th>\n",
       "      <th>1</th>\n",
       "    </tr>\n",
       "  </thead>\n",
       "  <tbody>\n",
       "    <tr>\n",
       "      <th>0</th>\n",
       "      <td>2104</td>\n",
       "      <td>3</td>\n",
       "    </tr>\n",
       "    <tr>\n",
       "      <th>1</th>\n",
       "      <td>1600</td>\n",
       "      <td>3</td>\n",
       "    </tr>\n",
       "    <tr>\n",
       "      <th>2</th>\n",
       "      <td>2400</td>\n",
       "      <td>3</td>\n",
       "    </tr>\n",
       "    <tr>\n",
       "      <th>3</th>\n",
       "      <td>1416</td>\n",
       "      <td>2</td>\n",
       "    </tr>\n",
       "    <tr>\n",
       "      <th>4</th>\n",
       "      <td>3000</td>\n",
       "      <td>4</td>\n",
       "    </tr>\n",
       "  </tbody>\n",
       "</table>\n",
       "</div>"
      ],
      "text/plain": [
       "      0  1\n",
       "0  2104  3\n",
       "1  1600  3\n",
       "2  2400  3\n",
       "3  1416  2\n",
       "4  3000  4"
      ]
     },
     "execution_count": 72,
     "metadata": {},
     "output_type": "execute_result"
    }
   ],
   "source": [
    "X.head(5)"
   ]
  },
  {
   "cell_type": "code",
   "execution_count": 73,
   "id": "875c9ed3-47ce-4ce7-a821-1b0ef5bf5b10",
   "metadata": {},
   "outputs": [
    {
     "data": {
      "text/plain": [
       "0    399900\n",
       "1    329900\n",
       "2    369000\n",
       "3    232000\n",
       "4    539900\n",
       "Name: 2, dtype: int64"
      ]
     },
     "execution_count": 73,
     "metadata": {},
     "output_type": "execute_result"
    }
   ],
   "source": [
    "y.head(5)"
   ]
  },
  {
   "cell_type": "markdown",
   "id": "ef7f2c7d-18b6-439c-886a-2fab8cac177b",
   "metadata": {},
   "source": [
    "## Feature Scaling and Normalization\n",
    "\n",
    "By looking at the values, note that house sizes are about 1000 times the number of bedrooms. When features differ by orders of magnitude, first performing feature scaling can make gradient descent converge much more quickly.\n",
    "\n",
    "\n",
    "Feature Scaling can be performed with following steps.\n",
    "1. Subtract the mean value of each feature from the dataset.\n",
    "1. After subtracting the mean, additionally scale (divide) the feature values by their respective “standard deviations.”"
   ]
  },
  {
   "cell_type": "markdown",
   "id": "39efa6d1-99d4-46c6-9565-ca179cada154",
   "metadata": {},
   "source": [
    "### Apply the Z-Score Scaling the features. And use following Z-Score Scaling foru\n",
    "![scaling](res/scaling.png \"MSE\")"
   ]
  },
  {
   "cell_type": "code",
   "execution_count": 74,
   "id": "20e541e2-6807-4328-b1e7-06cd94a39757",
   "metadata": {},
   "outputs": [
    {
     "name": "stdout",
     "output_type": "stream",
     "text": [
      "Scaled X:\n",
      "            0         1\n",
      "0   0.130010 -0.223675\n",
      "1  -0.504190 -0.223675\n",
      "2   0.502476 -0.223675\n",
      "3  -0.735723 -1.537767\n",
      "4   1.257476  1.090417\n",
      "5  -0.019732  1.090417\n",
      "6  -0.587240 -0.223675\n",
      "7  -0.721881 -0.223675\n",
      "8  -0.781023 -0.223675\n",
      "9  -0.637573 -0.223675\n",
      "10 -0.076357  1.090417\n",
      "11 -0.000857 -0.223675\n",
      "12 -0.139273 -0.223675\n",
      "13  3.117292  2.404508\n",
      "14 -0.921956 -0.223675\n",
      "15  0.376643  1.090417\n",
      "16 -0.856523 -1.537767\n",
      "17 -0.962223 -0.223675\n",
      "18  0.765468  1.090417\n",
      "19  1.296484  1.090417\n",
      "20 -0.294048 -0.223675\n",
      "21 -0.141790 -1.537767\n",
      "22 -0.499157 -0.223675\n",
      "23 -0.048673  1.090417\n",
      "24  2.377392 -0.223675\n",
      "25 -1.133356 -0.223675\n",
      "26 -0.682873 -0.223675\n",
      "27  0.661026 -0.223675\n",
      "28  0.250810 -0.223675\n",
      "29  0.800701 -0.223675\n",
      "30 -0.203448 -1.537767\n",
      "31 -1.259189 -2.851859\n",
      "32  0.049477  1.090417\n",
      "33  1.429868 -0.223675\n",
      "34 -0.238682  1.090417\n",
      "35 -0.709298 -0.223675\n",
      "36 -0.958448 -0.223675\n",
      "37  0.165243  1.090417\n",
      "38  2.786350  1.090417\n",
      "39  0.202993  1.090417\n",
      "40 -0.423657 -1.537767\n",
      "41  0.298626 -0.223675\n",
      "42  0.712618  1.090417\n",
      "43 -1.007523 -0.223675\n",
      "44 -1.445423 -1.537767\n",
      "45 -0.187090  1.090417\n",
      "46 -1.003748 -0.223675\n"
     ]
    }
   ],
   "source": [
    "# Z-score normalization for each column independently\n",
    "X_scaled = (X - X.mean()) / X.std()\n",
    "\n",
    "# Print the scaled X for verification\n",
    "print(\"Scaled X:\\n\", X_scaled)"
   ]
  },
  {
   "cell_type": "code",
   "execution_count": 75,
   "id": "94a77a91-1a3f-43ae-8baf-eacb21aa19a5",
   "metadata": {},
   "outputs": [
    {
     "name": "stdout",
     "output_type": "stream",
     "text": [
      "Features with intercept term (first few rows):\n",
      "[[ 1.          0.13000987 -0.22367519]\n",
      " [ 1.         -0.50418984 -0.22367519]\n",
      " [ 1.          0.50247636 -0.22367519]\n",
      " [ 1.         -0.73572306 -1.53776691]\n",
      " [ 1.          1.25747602  1.09041654]]\n"
     ]
    }
   ],
   "source": [
    "### WRITE CODE HERE ###\n",
    "# In above features add a column of ones in dataset for intercept term.\n",
    "X_scaled_with_intercept = np.c_[np.ones((m, 1)), X_scaled]\n",
    "\n",
    "# Print the modified dataset\n",
    "print(\"Features with intercept term (first few rows):\")\n",
    "print(X_scaled_with_intercept[:5])\n"
   ]
  },
  {
   "cell_type": "code",
   "execution_count": 76,
   "id": "7c6a4a60-f61d-4258-8083-d15c77331adf",
   "metadata": {},
   "outputs": [],
   "source": [
    "# Hyperparamters. Don't change there for submission\n",
    "alpha = 0.01\n",
    "num_iters = 400\n",
    "y = np.array(y)\n",
    "y = y[:,np.newaxis]\n"
   ]
  },
  {
   "cell_type": "code",
   "execution_count": 77,
   "id": "77de2110-25c2-431c-b05f-1f60064d919e",
   "metadata": {},
   "outputs": [
    {
     "name": "stdout",
     "output_type": "stream",
     "text": [
      "Initialized Thetas (zeros):\n",
      "[[0.]\n",
      " [0.]\n",
      " [0.]]\n"
     ]
    }
   ],
   "source": [
    "# Initialize Thetas to zero\n",
    "n_features = X_scaled_with_intercept.shape[1]  # Number of features including intercept\n",
    "theta = np.zeros((n_features, 1))\n",
    "\n",
    "# Print initialized Thetas\n",
    "print(\"Initialized Thetas (zeros):\")\n",
    "print(theta)"
   ]
  },
  {
   "cell_type": "code",
   "execution_count": 78,
   "id": "60af9d3c-fb84-40d8-9121-48e078632de7",
   "metadata": {},
   "outputs": [
    {
     "name": "stdout",
     "output_type": "stream",
     "text": [
      "65591548106.45744\n"
     ]
    }
   ],
   "source": [
    "# Complete cost function for more than one input features\n",
    "def computeCostMulti(X, y, theta):\n",
    "    m = len(y)  # Number of training samples\n",
    "    predictions = X @ theta  # Predictions for all samples\n",
    "    errors = predictions - y  # Difference between predictions and actual values\n",
    "    J = (1 / (2 * m)) * np.sum(errors ** 2)  # Compute the cost\n",
    "    return J\n",
    "\n",
    "# Example usage\n",
    "J = computeCostMulti(X_scaled_with_intercept, y, theta)\n",
    "print(J)"
   ]
  },
  {
   "cell_type": "code",
   "execution_count": 79,
   "id": "73759e29-a531-42a8-9618-2b53e0dc9089",
   "metadata": {},
   "outputs": [
    {
     "name": "stdout",
     "output_type": "stream",
     "text": [
      "Updated Theta values after Gradient Descent:\n",
      "[[334302.06399328]\n",
      " [100087.11600585]\n",
      " [  3673.54845093]]\n"
     ]
    }
   ],
   "source": [
    "def gradientDescentMulti(X, y, theta, alpha, iterations):\n",
    "    m = len(y)  # Number of training samples\n",
    "    for i in range(iterations):\n",
    "        predictions = X @ theta  # Calculate predictions\n",
    "        errors = predictions - y  # Calculate the errors\n",
    "        gradient = (1 / m) * (X.T @ errors)  # Compute the gradient\n",
    "        theta -= alpha * gradient  # Update the parameters\n",
    "    return theta\n",
    "\n",
    "# Ensure you are using X_scaled_with_intercept (with intercept term)\n",
    "theta = np.zeros((X_scaled_with_intercept.shape[1], 1))  # Initialize theta to zero with the correct shape\n",
    "theta = gradientDescentMulti(X_scaled_with_intercept, y, theta, alpha, num_iters)\n",
    "print(\"Updated Theta values after Gradient Descent:\")\n",
    "print(theta)"
   ]
  },
  {
   "cell_type": "code",
   "execution_count": 80,
   "id": "d8b43e20",
   "metadata": {},
   "outputs": [
    {
     "name": "stdout",
     "output_type": "stream",
     "text": [
      "Predicted price: 200519554.7210389\n"
     ]
    }
   ],
   "source": [
    "new_data = np.array([1, 2000, 3])  # [1, square footage, number of bedrooms]\n",
    "predicted_price = new_data @ theta\n",
    "print(f\"Predicted price: {predicted_price[0]}\")\n"
   ]
  },
  {
   "cell_type": "code",
   "execution_count": null,
   "id": "38a99c40",
   "metadata": {},
   "outputs": [],
   "source": [
    "# Min-Max normalization function\n",
    "def min_max_normalize(X):\n",
    "    return (X - X.min()) / (X.max() - X.min())\n",
    "\n",
    "# Read data from file\n",
    "data = pd.read_csv('ex1data2.txt', sep=',', header=None)\n",
    "\n",
    "# Assign columns for X (features) and y (target)\n",
    "X = data.iloc[:, 0:2]  # First two columns\n",
    "y = data.iloc[:, 2]    # Third column\n",
    "m = len(y)             # Number of training samples\n",
    "\n",
    "# Apply Min-Max normalization to X\n",
    "X_scaled1 = min_max_normalize(X)\n",
    "\n",
    "# Add a column of ones for the intercept term\n",
    "X_scaled1_with_intercept = np.c_[np.ones((m, 1)), X_scaled1]\n",
    "\n",
    "# Ensure y is a column vector (2D array with shape (m, 1))\n",
    "y = y.values.reshape(-1, 1)\n",
    "\n",
    "# Initialize theta\n",
    "theta = np.zeros((X_scaled1_with_intercept.shape[1], 1))\n",
    "\n",
    "# Hyperparameters\n",
    "alpha = 0.01\n",
    "iterations = 400\n",
    "\n",
    "# Gradient Descent function\n",
    "def gradientDescentMulti(X, y, theta, alpha, iterations):\n",
    "    m = len(y)  # Number of training samples\n",
    "    for i in range(iterations):\n",
    "        predictions = X @ theta  # Calculate predictions\n",
    "        errors = predictions - y  # Calculate the errors\n",
    "        gradient = (1 / m) * (X.T @ errors)  # Compute the gradient\n",
    "        theta -= alpha * gradient  # Update the parameters\n",
    "    return theta"
   ]
  },
  {
   "cell_type": "code",
   "execution_count": 84,
   "id": "7e16f551-36c4-4c95-83b0-80b4adcbb955",
   "metadata": {},
   "outputs": [
    {
     "name": "stdout",
     "output_type": "stream",
     "text": [
      "Updated Theta values after Gradient Descent with Min-Max Normalization:\n",
      "[[225422.61458395]\n",
      " [134845.36654335]\n",
      " [138622.10096074]]\n"
     ]
    }
   ],
   "source": [
    "# gradient descent with Min-Max normalized features\n",
    "theta = gradientDescentMulti(X_scaled1_with_intercept, y, theta, alpha, iterations)\n",
    "\n",
    "# Print the updated theta values\n",
    "print(\"Updated Theta values after Gradient Descent with Min-Max Normalization:\")\n",
    "print(theta)"
   ]
  },
  {
   "cell_type": "code",
   "execution_count": 86,
   "id": "5b7bcbb8-febd-4411-bcd5-2634d1cea11a",
   "metadata": {},
   "outputs": [
    {
     "name": "stdout",
     "output_type": "stream",
     "text": [
      "4330735103.195994\n"
     ]
    }
   ],
   "source": [
    "J = computeCostMulti(X_scaled1_with_intercept, y, theta)\n",
    "print(J)"
   ]
  },
  {
   "cell_type": "code",
   "execution_count": null,
   "id": "f49a2567-4cf6-449c-92da-908ea63de450",
   "metadata": {},
   "outputs": [],
   "source": []
  }
 ],
 "metadata": {
  "kernelspec": {
   "display_name": "Python 3",
   "language": "python",
   "name": "python3"
  },
  "language_info": {
   "codemirror_mode": {
    "name": "ipython",
    "version": 3
   },
   "file_extension": ".py",
   "mimetype": "text/x-python",
   "name": "python",
   "nbconvert_exporter": "python",
   "pygments_lexer": "ipython3",
   "version": "3.12.2"
  }
 },
 "nbformat": 4,
 "nbformat_minor": 5
}
