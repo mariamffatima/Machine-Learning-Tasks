{
 "cells": [
  {
   "cell_type": "code",
   "execution_count": 2,
   "metadata": {},
   "outputs": [
    {
     "name": "stdout",
     "output_type": "stream",
     "text": [
      "Decision Tree MSE: 331.0\n",
      "Random Forest MSE: 611.2996000000006\n"
     ]
    }
   ],
   "source": [
    "from sklearn.tree import DecisionTreeRegressor\n",
    "from sklearn.ensemble import RandomForestRegressor\n",
    "from sklearn.metrics import mean_squared_error\n",
    "import pandas as pd\n",
    "\n",
    "# Training Data\n",
    "train_data = pd.DataFrame({\n",
    "    'X1': [60, 62, 67, 70, 71],\n",
    "    'X2': [22, 25, 24, 20, 15],\n",
    "    'Y': [140, 155, 159, 179, 192]\n",
    "})\n",
    "\n",
    "# Test Data\n",
    "test_data = pd.DataFrame({\n",
    "    'X1': [72, 75, 78],\n",
    "    'X2': [14, 14, 11],\n",
    "    'Y': [200, 212, 215]\n",
    "})\n",
    "\n",
    "# Splitting features and labels\n",
    "X_train = train_data[['X1', 'X2']]\n",
    "y_train = train_data['Y']\n",
    "X_test = test_data[['X1', 'X2']]\n",
    "y_test = test_data['Y']\n",
    "\n",
    "# Decision Tree Regressor\n",
    "dt_regressor = DecisionTreeRegressor()\n",
    "dt_regressor.fit(X_train, y_train)\n",
    "dt_predictions = dt_regressor.predict(X_test)\n",
    "dt_mse = mean_squared_error(y_test, dt_predictions)\n",
    "\n",
    "# Random Forest Regressor\n",
    "rf_regressor = RandomForestRegressor()\n",
    "rf_regressor.fit(X_train, y_train)\n",
    "rf_predictions = rf_regressor.predict(X_test)\n",
    "rf_mse = mean_squared_error(y_test, rf_predictions)\n",
    "\n",
    "print(f\"Decision Tree MSE: {dt_mse}\")\n",
    "print(f\"Random Forest MSE: {rf_mse}\")\n"
   ]
  },
  {
   "cell_type": "code",
   "execution_count": null,
   "metadata": {},
   "outputs": [],
   "source": []
  }
 ],
 "metadata": {
  "kernelspec": {
   "display_name": "Python 3",
   "language": "python",
   "name": "python3"
  },
  "language_info": {
   "codemirror_mode": {
    "name": "ipython",
    "version": 3
   },
   "file_extension": ".py",
   "mimetype": "text/x-python",
   "name": "python",
   "nbconvert_exporter": "python",
   "pygments_lexer": "ipython3",
   "version": "3.12.2"
  }
 },
 "nbformat": 4,
 "nbformat_minor": 2
}
