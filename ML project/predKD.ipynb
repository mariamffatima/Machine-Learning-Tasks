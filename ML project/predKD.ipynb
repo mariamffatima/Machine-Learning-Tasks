{
 "cells": [
  {
   "cell_type": "code",
   "execution_count": 26,
   "metadata": {},
   "outputs": [],
   "source": [
    "import pandas as pd\n",
    "import numpy as np\n",
    "import matplotlib.pyplot as plt\n",
    "import seaborn as sns\n",
    "from sklearn.model_selection import train_test_split, GridSearchCV, cross_val_score\n",
    "from sklearn.linear_model import LogisticRegression\n",
    "from sklearn.ensemble import RandomForestClassifier\n",
    "from sklearn.svm import SVC\n",
    "from sklearn.utils import resample\n",
    "from sklearn.preprocessing import LabelEncoder, OrdinalEncoder, MinMaxScaler, StandardScaler, RobustScaler, OneHotEncoder\n",
    "from sklearn.impute import SimpleImputer\n",
    "from sklearn.metrics import classification_report, accuracy_score, confusion_matrix\n",
    "from sklearn.model_selection import train_test_split\n",
    "from sklearn.compose import make_column_transformer\n",
    "from sklearn.preprocessing import OneHotEncoder\n",
    "from sklearn.compose import make_column_transformer\n",
    "from sklearn.preprocessing import StandardScaler \n",
    "from sklearn import metrics\n",
    "from sklearn.neighbors import KNeighborsClassifier\n",
    "from imblearn.over_sampling import SMOTE\n",
    "from sklearn.impute import SimpleImputer\n",
    "from collections import Counter\n",
    "from sklearn.compose import ColumnTransformer\n",
    "from sklearn.metrics import accuracy_score, precision_score, recall_score, f1_score, confusion_matrix, roc_auc_score, classification_report"
   ]
  },
  {
   "cell_type": "code",
   "execution_count": 27,
   "metadata": {},
   "outputs": [],
   "source": [
    "data=pd.read_csv('data.csv')"
   ]
  },
  {
   "cell_type": "code",
   "execution_count": 28,
   "metadata": {},
   "outputs": [
    {
     "name": "stderr",
     "output_type": "stream",
     "text": [
      "/var/folders/dz/tmzcb2_j20bbp4pjqn9xwlvw0000gn/T/ipykernel_23534/2979708335.py:1: FutureWarning: Downcasting behavior in `replace` is deprecated and will be removed in a future version. To retain the old behavior, explicitly call `result.infer_objects(copy=False)`. To opt-in to the future behavior, set `pd.set_option('future.no_silent_downcasting', True)`\n",
      "  data =  data[data.columns].replace({'Yes':1, 'No':0, 'Male':1,'Female':0,'No, borderline diabetes':'0','Yes (during pregnancy)':'1' })\n"
     ]
    }
   ],
   "source": [
    "data =  data[data.columns].replace({'Yes':1, 'No':0, 'Male':1,'Female':0,'No, borderline diabetes':'0','Yes (during pregnancy)':'1' })\n",
    "data['Diabetic'] = data['Diabetic'].astype(int)"
   ]
  },
  {
   "cell_type": "code",
   "execution_count": 29,
   "metadata": {},
   "outputs": [
    {
     "data": {
      "text/plain": [
       "Index(['HeartDisease', 'BMI', 'Smoking', 'AlcoholDrinking', 'Stroke',\n",
       "       'PhysicalHealth', 'MentalHealth', 'DiffWalking', 'Sex', 'AgeCategory',\n",
       "       'Race', 'Diabetic', 'PhysicalActivity', 'GenHealth', 'SleepTime',\n",
       "       'Asthma', 'KidneyDisease', 'SkinCancer'],\n",
       "      dtype='object')"
      ]
     },
     "execution_count": 29,
     "metadata": {},
     "output_type": "execute_result"
    }
   ],
   "source": [
    "data.columns"
   ]
  },
  {
   "cell_type": "code",
   "execution_count": 30,
   "metadata": {},
   "outputs": [
    {
     "name": "stderr",
     "output_type": "stream",
     "text": [
      "/var/folders/dz/tmzcb2_j20bbp4pjqn9xwlvw0000gn/T/ipykernel_23534/332075556.py:1: FutureWarning: A value is trying to be set on a copy of a DataFrame or Series through chained assignment using an inplace method.\n",
      "The behavior will change in pandas 3.0. This inplace method will never work because the intermediate object on which we are setting values always behaves as a copy.\n",
      "\n",
      "For example, when doing 'df[col].method(value, inplace=True)', try using 'df.method({col: value}, inplace=True)' or df[col] = df[col].method(value) instead, to perform the operation inplace on the original object.\n",
      "\n",
      "\n",
      "  data['MentalHealth'].fillna(data['MentalHealth'].mean(),inplace=True)\n"
     ]
    }
   ],
   "source": [
    "data['MentalHealth'].fillna(data['MentalHealth'].mean(),inplace=True)\n",
    "selected_features = [\n",
    "    'AgeCategory', 'DiffWalking', 'Diabetic', 'PhysicalHealth', 'Stroke',\n",
    "    'Smoking','GenHealth',\n",
    "    'Sex', 'Race', 'BMI', 'SkinCancer','HeartDisease', 'Asthma','MentalHealth'\n",
    "]\n",
    "X = data[selected_features]\n",
    "y = data['KidneyDisease']\n",
    "# X = X.drop(columns=['MentalHealth'], axis=1)\n",
    "\n",
    "X_train, X_temp, y_train, y_temp = train_test_split(X, y, test_size=0.4, random_state=42, shuffle=True)\n",
    "X_val, X_test, y_val, y_test = train_test_split(X_temp, y_temp, test_size=0.5, random_state=42)"
   ]
  },
  {
   "cell_type": "code",
   "execution_count": 31,
   "metadata": {},
   "outputs": [],
   "source": [
    "age_order = ['18-24', '25-29', '30-34', '35-39', '40-44', '45-49', '50-54', '55-59', '60-64', '65-69', '70-74', '75-79', '80 or older']\n",
    "ordinal_encoder = OrdinalEncoder(categories=[age_order])\n",
    "X_train['AgeCategory'] = ordinal_encoder.fit_transform(X_train[['AgeCategory']])\n",
    "X_val['AgeCategory'] = ordinal_encoder.transform(X_val[['AgeCategory']])\n",
    "X_test['AgeCategory'] = ordinal_encoder.transform(X_test[['AgeCategory']])"
   ]
  },
  {
   "cell_type": "code",
   "execution_count": 32,
   "metadata": {},
   "outputs": [],
   "source": [
    "#One-hot encode 'AgeCategory', 'Race', 'GenHealth' for all datasets\n",
    "X_train = pd.get_dummies(X_train, columns=['Race', 'GenHealth'], drop_first=True)\n",
    "X_val = pd.get_dummies(X_val, columns=['Race', 'GenHealth'], drop_first=True)\n",
    "X_test = pd.get_dummies(X_test, columns=['Race', 'GenHealth'], drop_first=True)"
   ]
  },
  {
   "cell_type": "code",
   "execution_count": 33,
   "metadata": {},
   "outputs": [
    {
     "name": "stdout",
     "output_type": "stream",
     "text": [
      "Counter({0: 32824, 1: 2616})\n"
     ]
    }
   ],
   "source": [
    "# # balance the classes in KidneyDisease using SMOTE\n",
    "# sm = SMOTE(random_state=42)\n",
    "# X_train, y_train = sm.fit_resample(X_train, y_train)\n",
    "# check the balance of the classes\n",
    "print(Counter(y_train))"
   ]
  },
  {
   "cell_type": "code",
   "execution_count": 34,
   "metadata": {},
   "outputs": [],
   "source": [
    "X_train, X_val = X_train.align(X_val, join='left', axis=1, fill_value=0)\n",
    "X_train, X_test = X_train.align(X_test, join='left', axis=1, fill_value=0)\n",
    "\n",
    "scaler = StandardScaler()\n",
    "X_train = scaler.fit_transform(X_train)\n",
    "X_val = scaler.transform(X_val)\n",
    "X_test = scaler.transform(X_test)"
   ]
  },
  {
   "cell_type": "code",
   "execution_count": 35,
   "metadata": {},
   "outputs": [],
   "source": [
    "logreg = LogisticRegression(max_iter=500, random_state=42)\n",
    "logreg.fit(X_train, y_train)\n",
    "y_train_pred = logreg.predict(X_train)\n",
    "y_val_pred = logreg.predict(X_val)\n",
    "y_test_pred = logreg.predict(X_test)"
   ]
  },
  {
   "cell_type": "code",
   "execution_count": 36,
   "metadata": {},
   "outputs": [
    {
     "name": "stdout",
     "output_type": "stream",
     "text": [
      "Accuracy on training set:  0.9260722347629797\n",
      "Accuracy on validation set:  0.9234806162180463\n",
      "Accuracy on test set:  0.9264432029795159\n",
      "\n",
      "Classification Report (Train):\n",
      "               precision    recall  f1-score   support\n",
      "\n",
      "           0       0.93      1.00      0.96     32824\n",
      "           1       0.42      0.00      0.01      2616\n",
      "\n",
      "    accuracy                           0.93     35440\n",
      "   macro avg       0.67      0.50      0.48     35440\n",
      "weighted avg       0.89      0.93      0.89     35440\n",
      "\n",
      "\n",
      "Confusion Matrix (Train):\n",
      " [[32809    15]\n",
      " [ 2605    11]]\n",
      "\n",
      "Classification Report (Validation):\n",
      "               precision    recall  f1-score   support\n",
      "\n",
      "           0       0.92      1.00      0.96     10910\n",
      "           1       0.50      0.00      0.01       904\n",
      "\n",
      "    accuracy                           0.92     11814\n",
      "   macro avg       0.71      0.50      0.48     11814\n",
      "weighted avg       0.89      0.92      0.89     11814\n",
      "\n",
      "\n",
      "Confusion Matrix (Validation):\n",
      " [[10906     4]\n",
      " [  900     4]]\n",
      "\n",
      "Classification Report (Test):\n",
      "               precision    recall  f1-score   support\n",
      "\n",
      "           0       0.93      1.00      0.96     10942\n",
      "           1       0.80      0.00      0.01       872\n",
      "\n",
      "    accuracy                           0.93     11814\n",
      "   macro avg       0.86      0.50      0.49     11814\n",
      "weighted avg       0.92      0.93      0.89     11814\n",
      "\n",
      "\n",
      "Confusion Matrix (Test):\n",
      " [[10941     1]\n",
      " [  868     4]]\n"
     ]
    }
   ],
   "source": [
    "print(\"Accuracy on training set: \", logreg.score(X_train, y_train))\n",
    "print(\"Accuracy on validation set: \", logreg.score(X_val, y_val))\n",
    "print(\"Accuracy on test set: \", logreg.score(X_test, y_test))\n",
    "\n",
    "print(\"\\nClassification Report (Train):\\n\", classification_report(y_train, y_train_pred))\n",
    "print(\"\\nConfusion Matrix (Train):\\n\", confusion_matrix(y_train, y_train_pred))\n",
    "print(\"\\nClassification Report (Validation):\\n\", classification_report(y_val, y_val_pred))\n",
    "print(\"\\nConfusion Matrix (Validation):\\n\", confusion_matrix(y_val, y_val_pred))\n",
    "print(\"\\nClassification Report (Test):\\n\", classification_report(y_test, y_test_pred))\n",
    "print(\"\\nConfusion Matrix (Test):\\n\", confusion_matrix(y_test, y_test_pred))\n"
   ]
  },
  {
   "cell_type": "code",
   "execution_count": 37,
   "metadata": {},
   "outputs": [],
   "source": [
    "svm_model = SVC(C=10, gamma=0.001, kernel='rbf', random_state=42)\n",
    "svm_model.fit(X_train, y_train)\n",
    "y_train_pred = svm_model.predict(X_train)\n",
    "y_val_pred = svm_model.predict(X_val)\n",
    "y_test_pred = svm_model.predict(X_test)"
   ]
  },
  {
   "cell_type": "code",
   "execution_count": 38,
   "metadata": {},
   "outputs": [
    {
     "name": "stdout",
     "output_type": "stream",
     "text": [
      "Accuracy on training set:  0.9261851015801355\n",
      "Accuracy on validation set:  0.9234806162180463\n",
      "Accuracy on test set:  0.9261892669713899\n",
      "\n",
      "Classification Report (Train):\n",
      "               precision    recall  f1-score   support\n",
      "\n",
      "           0       0.93      1.00      0.96     32824\n",
      "           1       0.00      0.00      0.00      2616\n",
      "\n",
      "    accuracy                           0.93     35440\n",
      "   macro avg       0.46      0.50      0.48     35440\n",
      "weighted avg       0.86      0.93      0.89     35440\n",
      "\n",
      "\n",
      "Confusion Matrix (Train):\n",
      " [[32824     0]\n",
      " [ 2616     0]]\n",
      "\n",
      "Classification Report (Validation):\n",
      "               precision    recall  f1-score   support\n",
      "\n",
      "           0       0.92      1.00      0.96     10910\n",
      "           1       0.00      0.00      0.00       904\n",
      "\n",
      "    accuracy                           0.92     11814\n",
      "   macro avg       0.46      0.50      0.48     11814\n",
      "weighted avg       0.85      0.92      0.89     11814\n",
      "\n",
      "\n",
      "Confusion Matrix (Validation):\n",
      " [[10910     0]\n",
      " [  904     0]]\n",
      "\n",
      "Classification Report (Test):\n",
      "               precision    recall  f1-score   support\n",
      "\n",
      "           0       0.93      1.00      0.96     10942\n",
      "           1       0.00      0.00      0.00       872\n",
      "\n",
      "    accuracy                           0.93     11814\n",
      "   macro avg       0.46      0.50      0.48     11814\n",
      "weighted avg       0.86      0.93      0.89     11814\n",
      "\n",
      "\n",
      "Confusion Matrix (Test):\n",
      " [[10942     0]\n",
      " [  872     0]]\n"
     ]
    },
    {
     "name": "stderr",
     "output_type": "stream",
     "text": [
      "/Library/Frameworks/Python.framework/Versions/3.12/lib/python3.12/site-packages/sklearn/metrics/_classification.py:1531: UndefinedMetricWarning: Precision is ill-defined and being set to 0.0 in labels with no predicted samples. Use `zero_division` parameter to control this behavior.\n",
      "  _warn_prf(average, modifier, f\"{metric.capitalize()} is\", len(result))\n",
      "/Library/Frameworks/Python.framework/Versions/3.12/lib/python3.12/site-packages/sklearn/metrics/_classification.py:1531: UndefinedMetricWarning: Precision is ill-defined and being set to 0.0 in labels with no predicted samples. Use `zero_division` parameter to control this behavior.\n",
      "  _warn_prf(average, modifier, f\"{metric.capitalize()} is\", len(result))\n",
      "/Library/Frameworks/Python.framework/Versions/3.12/lib/python3.12/site-packages/sklearn/metrics/_classification.py:1531: UndefinedMetricWarning: Precision is ill-defined and being set to 0.0 in labels with no predicted samples. Use `zero_division` parameter to control this behavior.\n",
      "  _warn_prf(average, modifier, f\"{metric.capitalize()} is\", len(result))\n",
      "/Library/Frameworks/Python.framework/Versions/3.12/lib/python3.12/site-packages/sklearn/metrics/_classification.py:1531: UndefinedMetricWarning: Precision is ill-defined and being set to 0.0 in labels with no predicted samples. Use `zero_division` parameter to control this behavior.\n",
      "  _warn_prf(average, modifier, f\"{metric.capitalize()} is\", len(result))\n",
      "/Library/Frameworks/Python.framework/Versions/3.12/lib/python3.12/site-packages/sklearn/metrics/_classification.py:1531: UndefinedMetricWarning: Precision is ill-defined and being set to 0.0 in labels with no predicted samples. Use `zero_division` parameter to control this behavior.\n",
      "  _warn_prf(average, modifier, f\"{metric.capitalize()} is\", len(result))\n",
      "/Library/Frameworks/Python.framework/Versions/3.12/lib/python3.12/site-packages/sklearn/metrics/_classification.py:1531: UndefinedMetricWarning: Precision is ill-defined and being set to 0.0 in labels with no predicted samples. Use `zero_division` parameter to control this behavior.\n",
      "  _warn_prf(average, modifier, f\"{metric.capitalize()} is\", len(result))\n",
      "/Library/Frameworks/Python.framework/Versions/3.12/lib/python3.12/site-packages/sklearn/metrics/_classification.py:1531: UndefinedMetricWarning: Precision is ill-defined and being set to 0.0 in labels with no predicted samples. Use `zero_division` parameter to control this behavior.\n",
      "  _warn_prf(average, modifier, f\"{metric.capitalize()} is\", len(result))\n",
      "/Library/Frameworks/Python.framework/Versions/3.12/lib/python3.12/site-packages/sklearn/metrics/_classification.py:1531: UndefinedMetricWarning: Precision is ill-defined and being set to 0.0 in labels with no predicted samples. Use `zero_division` parameter to control this behavior.\n",
      "  _warn_prf(average, modifier, f\"{metric.capitalize()} is\", len(result))\n",
      "/Library/Frameworks/Python.framework/Versions/3.12/lib/python3.12/site-packages/sklearn/metrics/_classification.py:1531: UndefinedMetricWarning: Precision is ill-defined and being set to 0.0 in labels with no predicted samples. Use `zero_division` parameter to control this behavior.\n",
      "  _warn_prf(average, modifier, f\"{metric.capitalize()} is\", len(result))\n"
     ]
    }
   ],
   "source": [
    "# get accuracy \n",
    "print(\"Accuracy on training set: \", svm_model.score(X_train, y_train))\n",
    "print(\"Accuracy on validation set: \", svm_model.score(X_val, y_val))\n",
    "print(\"Accuracy on test set: \", svm_model.score(X_test, y_test))\n",
    "\n",
    "print(\"\\nClassification Report (Train):\\n\", classification_report(y_train, y_train_pred))\n",
    "print(\"\\nConfusion Matrix (Train):\\n\", confusion_matrix(y_train, y_train_pred))\n",
    "print(\"\\nClassification Report (Validation):\\n\", classification_report(y_val, y_val_pred))\n",
    "print(\"\\nConfusion Matrix (Validation):\\n\", confusion_matrix(y_val, y_val_pred))\n",
    "print(\"\\nClassification Report (Test):\\n\", classification_report(y_test, y_test_pred))\n",
    "print(\"\\nConfusion Matrix (Test):\\n\", confusion_matrix(y_test, y_test_pred))"
   ]
  },
  {
   "cell_type": "code",
   "execution_count": null,
   "metadata": {},
   "outputs": [],
   "source": []
  },
  {
   "cell_type": "code",
   "execution_count": null,
   "metadata": {},
   "outputs": [],
   "source": []
  }
 ],
 "metadata": {
  "kernelspec": {
   "display_name": "Python 3",
   "language": "python",
   "name": "python3"
  },
  "language_info": {
   "codemirror_mode": {
    "name": "ipython",
    "version": 3
   },
   "file_extension": ".py",
   "mimetype": "text/x-python",
   "name": "python",
   "nbconvert_exporter": "python",
   "pygments_lexer": "ipython3",
   "version": "3.12.5"
  }
 },
 "nbformat": 4,
 "nbformat_minor": 2
}
