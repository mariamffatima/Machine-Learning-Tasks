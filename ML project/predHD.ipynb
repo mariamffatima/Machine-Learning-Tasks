{
 "cells": [
  {
   "cell_type": "markdown",
   "metadata": {},
   "source": [
    "# IMPORTING REQUIRED LIBRARIES"
   ]
  },
  {
   "cell_type": "code",
   "execution_count": 1,
   "metadata": {},
   "outputs": [],
   "source": [
    "import pandas as pd\n",
    "import numpy as np\n",
    "from sklearn.model_selection import train_test_split, GridSearchCV, cross_val_score\n",
    "from sklearn.ensemble import RandomForestClassifier\n",
    "from sklearn.svm import SVC\n",
    "from sklearn.preprocessing import LabelEncoder, OrdinalEncoder, MinMaxScaler, StandardScaler, RobustScaler, OneHotEncoder\n",
    "from sklearn.metrics import classification_report, accuracy_score, confusion_matrix\n",
    "from sklearn.model_selection import train_test_split\n",
    "from sklearn.compose import make_column_transformer\n",
    "from sklearn.compose import make_column_transformer\n",
    "from sklearn.preprocessing import StandardScaler \n",
    "from imblearn.over_sampling import SMOTE\n",
    "from collections import Counter\n",
    "from sklearn.metrics import accuracy_score, precision_score, recall_score, f1_score, confusion_matrix, roc_auc_score, classification_report"
   ]
  },
  {
   "cell_type": "markdown",
   "metadata": {},
   "source": [
    "# LOADING DATASET"
   ]
  },
  {
   "cell_type": "code",
   "execution_count": 2,
   "metadata": {},
   "outputs": [],
   "source": [
    "data=pd.read_csv('data.csv')"
   ]
  },
  {
   "cell_type": "markdown",
   "metadata": {},
   "source": [
    "# PREPROCESSING "
   ]
  },
  {
   "cell_type": "code",
   "execution_count": 3,
   "metadata": {},
   "outputs": [
    {
     "name": "stderr",
     "output_type": "stream",
     "text": [
      "/var/folders/dz/tmzcb2_j20bbp4pjqn9xwlvw0000gn/T/ipykernel_24726/3080862315.py:1: FutureWarning: Downcasting behavior in `replace` is deprecated and will be removed in a future version. To retain the old behavior, explicitly call `result.infer_objects(copy=False)`. To opt-in to the future behavior, set `pd.set_option('future.no_silent_downcasting', True)`\n",
      "  data = data.replace({\n"
     ]
    }
   ],
   "source": [
    "data = data.replace({\n",
    "    'Yes': 1, 'No': 0, 'Male': 1, 'Female': 0,\n",
    "    'No, borderline diabetes': '0',\n",
    "    'Yes (during pregnancy)': '1'\n",
    "})"
   ]
  },
  {
   "cell_type": "code",
   "execution_count": 4,
   "metadata": {},
   "outputs": [],
   "source": [
    "data['Diabetic'] = data['Diabetic'].astype(int)"
   ]
  },
  {
   "cell_type": "code",
   "execution_count": 5,
   "metadata": {},
   "outputs": [],
   "source": [
    "age_order = [\n",
    "    '18-24', '25-29', '30-34', '35-39', '40-44', '45-49', \n",
    "    '50-54', '55-59', '60-64', '65-69', '70-74', '75-79', '80 or older'\n",
    "]\n",
    "ordinal_encoder = OrdinalEncoder(categories=[age_order])\n",
    "data['AgeCategory'] = ordinal_encoder.fit_transform(data[['AgeCategory']])"
   ]
  },
  {
   "cell_type": "code",
   "execution_count": 6,
   "metadata": {},
   "outputs": [],
   "source": [
    "data = pd.get_dummies(data, columns=['Race', 'GenHealth'], drop_first=True)"
   ]
  },
  {
   "cell_type": "code",
   "execution_count": 7,
   "metadata": {},
   "outputs": [
    {
     "name": "stdout",
     "output_type": "stream",
     "text": [
      "Correlation of features with 'HeartDisease':\n",
      "HeartDisease           1.000000\n",
      "AgeCategory            0.423665\n",
      "DiffWalking            0.292551\n",
      "Diabetic               0.271339\n",
      "PhysicalHealth         0.238557\n",
      "Stroke                 0.237228\n",
      "GenHealth_Fair         0.211676\n",
      "GenHealth_Poor         0.207479\n",
      "KidneyDisease          0.183720\n",
      "Smoking                0.182721\n",
      "Sex                    0.126838\n",
      "Race_White             0.120470\n",
      "BMI                    0.120264\n",
      "SkinCancer             0.119374\n",
      "GenHealth_Good         0.075173\n",
      "Asthma                 0.059514\n",
      "MentalHealth           0.046395\n",
      "SleepTime             -0.000654\n",
      "Race_Other            -0.003094\n",
      "Race_Black            -0.008838\n",
      "Race_Asian            -0.057138\n",
      "AlcoholDrinking       -0.062526\n",
      "Race_Hispanic         -0.121603\n",
      "PhysicalActivity      -0.175646\n",
      "GenHealth_Very good   -0.186716\n",
      "Name: HeartDisease, dtype: float64\n"
     ]
    }
   ],
   "source": [
    "correlation_matrix = data.corr()\n",
    "correlation_with_target = correlation_matrix['HeartDisease'].sort_values(ascending=False)\n",
    "print(\"Correlation of features with 'HeartDisease':\")\n",
    "print(correlation_with_target)"
   ]
  },
  {
   "cell_type": "code",
   "execution_count": 8,
   "metadata": {},
   "outputs": [],
   "source": [
    "significant_features = correlation_with_target[abs(correlation_with_target) > 0.1].index.tolist()\n",
    "if 'HeartDisease' in significant_features:\n",
    "    significant_features.remove('HeartDisease')"
   ]
  },
  {
   "cell_type": "code",
   "execution_count": 9,
   "metadata": {},
   "outputs": [],
   "source": [
    "X = data[significant_features]\n",
    "y = data['HeartDisease']"
   ]
  },
  {
   "cell_type": "code",
   "execution_count": 10,
   "metadata": {},
   "outputs": [],
   "source": [
    "X_train, X_temp, y_train, y_temp = train_test_split(X, y, test_size=0.4, random_state=42, shuffle=True)\n",
    "X_val, X_test, y_val, y_test = train_test_split(X_temp, y_temp, test_size=0.5, random_state=42)"
   ]
  },
  {
   "cell_type": "code",
   "execution_count": 11,
   "metadata": {},
   "outputs": [
    {
     "name": "stdout",
     "output_type": "stream",
     "text": [
      "Counter({1: 19020, 0: 19020})\n"
     ]
    }
   ],
   "source": [
    "sm = SMOTE(random_state=42)\n",
    "X_train, y_train = sm.fit_resample(X_train, y_train)\n",
    "print(Counter(y_train))"
   ]
  },
  {
   "cell_type": "code",
   "execution_count": 12,
   "metadata": {},
   "outputs": [],
   "source": [
    "X_train, X_val = X_train.align(X_val, join='left', axis=1, fill_value=0)\n",
    "X_train, X_test = X_train.align(X_test, join='left', axis=1, fill_value=0)"
   ]
  },
  {
   "cell_type": "code",
   "execution_count": 13,
   "metadata": {},
   "outputs": [],
   "source": [
    "scaler = StandardScaler()\n",
    "X_train = scaler.fit_transform(X_train)\n",
    "X_val = scaler.transform(X_val)\n",
    "X_test = scaler.transform(X_test)"
   ]
  },
  {
   "cell_type": "code",
   "execution_count": 14,
   "metadata": {},
   "outputs": [
    {
     "name": "stdout",
     "output_type": "stream",
     "text": [
      "Fitting 5 folds for each of 48 candidates, totalling 240 fits\n",
      "[CV 1/5] END ........C=0.1, gamma=1, kernel=rbf;, score=0.710 total time=  34.3s\n",
      "[CV 2/5] END ........C=0.1, gamma=1, kernel=rbf;, score=0.708 total time=  36.5s\n",
      "[CV 3/5] END ........C=0.1, gamma=1, kernel=rbf;, score=0.709 total time=  35.8s\n",
      "[CV 4/5] END ........C=0.1, gamma=1, kernel=rbf;, score=0.705 total time=  36.0s\n",
      "[CV 5/5] END ........C=0.1, gamma=1, kernel=rbf;, score=0.707 total time=  37.7s\n",
      "[CV 1/5] END .......C=0.1, gamma=1, kernel=poly;, score=0.744 total time=23.5min\n",
      "[CV 2/5] END .......C=0.1, gamma=1, kernel=poly;, score=0.748 total time=23.2min\n",
      "[CV 3/5] END .......C=0.1, gamma=1, kernel=poly;, score=0.753 total time=23.9min\n",
      "[CV 4/5] END .......C=0.1, gamma=1, kernel=poly;, score=0.749 total time=24.1min\n"
     ]
    }
   ],
   "source": [
    "# hyperparameter tuning using grid search\n",
    "param_grid = {'C': [0.1, 1, 10], 'gamma': [1, 0.1, 0.01, 0.001], 'kernel': ['rbf']}\n",
    "grid = GridSearchCV(SVC(), param_grid, refit = True, verbose = 3)\n",
    "grid.fit(X_train, y_train)\n",
    "print(grid.best_params_)\n",
    "print(grid.best_estimator_)\n",
    "grid_predictions = grid.predict(X_test)\n",
    "print(confusion_matrix(y_test, grid_predictions))\n",
    "print(classification_report(y_test, grid_predictions))\n",
    "print(accuracy_score(y_test, grid_predictions))"
   ]
  },
  {
   "cell_type": "code",
   "execution_count": 38,
   "metadata": {},
   "outputs": [],
   "source": [
    "svm_model = SVC(C=10, gamma=0.001, kernel='rbf', random_state=42)\n",
    "svm_model.fit(X_train, y_train)\n",
    "y_train_pred = svm_model.predict(X_train)\n",
    "y_val_pred = svm_model.predict(X_val)\n",
    "y_test_pred = svm_model.predict(X_test)"
   ]
  },
  {
   "cell_type": "code",
   "execution_count": 39,
   "metadata": {},
   "outputs": [
    {
     "name": "stdout",
     "output_type": "stream",
     "text": [
      "Accuracy on training set:  0.753391167192429\n",
      "Accuracy on validation set:  0.755290333502624\n",
      "Accuracy on test set:  0.7594379549686813\n",
      "\n",
      "Classification Report (Train):\n",
      "               precision    recall  f1-score   support\n",
      "\n",
      "           0       0.77      0.72      0.74     19020\n",
      "           1       0.74      0.79      0.76     19020\n",
      "\n",
      "    accuracy                           0.75     38040\n",
      "   macro avg       0.75      0.75      0.75     38040\n",
      "weighted avg       0.75      0.75      0.75     38040\n",
      "\n",
      "\n",
      "Confusion Matrix (Train):\n",
      " [[13654  5366]\n",
      " [ 4015 15005]]\n",
      "\n",
      "Classification Report (Validation):\n",
      "               precision    recall  f1-score   support\n",
      "\n",
      "           0       0.80      0.72      0.76      6268\n",
      "           1       0.71      0.80      0.75      5546\n",
      "\n",
      "    accuracy                           0.76     11814\n",
      "   macro avg       0.76      0.76      0.76     11814\n",
      "weighted avg       0.76      0.76      0.76     11814\n",
      "\n",
      "\n",
      "Confusion Matrix (Validation):\n",
      " [[4492 1776]\n",
      " [1115 4431]]\n",
      "\n",
      "Classification Report (Test):\n",
      "               precision    recall  f1-score   support\n",
      "\n",
      "           0       0.81      0.72      0.77      6407\n",
      "           1       0.71      0.80      0.75      5407\n",
      "\n",
      "    accuracy                           0.76     11814\n",
      "   macro avg       0.76      0.76      0.76     11814\n",
      "weighted avg       0.77      0.76      0.76     11814\n",
      "\n",
      "\n",
      "Confusion Matrix (Test):\n",
      " [[4639 1768]\n",
      " [1074 4333]]\n"
     ]
    }
   ],
   "source": [
    "print(\"Accuracy on training set: \", svm_model.score(X_train, y_train))\n",
    "print(\"Accuracy on validation set: \", svm_model.score(X_val, y_val))\n",
    "print(\"Accuracy on test set: \", svm_model.score(X_test, y_test))\n",
    "\n",
    "print(\"\\nClassification Report (Train):\\n\", classification_report(y_train, y_train_pred))\n",
    "print(\"\\nConfusion Matrix (Train):\\n\", confusion_matrix(y_train, y_train_pred))\n",
    "print(\"\\nClassification Report (Validation):\\n\", classification_report(y_val, y_val_pred))\n",
    "print(\"\\nConfusion Matrix (Validation):\\n\", confusion_matrix(y_val, y_val_pred))\n",
    "print(\"\\nClassification Report (Test):\\n\", classification_report(y_test, y_test_pred))\n",
    "print(\"\\nConfusion Matrix (Test):\\n\", confusion_matrix(y_test, y_test_pred))"
   ]
  },
  {
   "cell_type": "code",
   "execution_count": 272,
   "metadata": {},
   "outputs": [],
   "source": [
    "rf = RandomForestClassifier(n_estimators=50, max_depth=9, random_state=42)\n",
    "rf.fit(X_train, y_train)\n",
    "y_train_pred = rf.predict(X_train)\n",
    "y_val_pred = rf.predict(X_val)\n",
    "y_test_pred = rf.predict(X_test)"
   ]
  },
  {
   "cell_type": "code",
   "execution_count": 273,
   "metadata": {},
   "outputs": [
    {
     "name": "stdout",
     "output_type": "stream",
     "text": [
      "Accuracy on training set:  0.7629796839729119\n",
      "Accuracy on validation set:  0.7539360081259523\n",
      "Accuracy on test set:  0.760284408329101\n",
      "\n",
      "Classification Report (Train):\n",
      "               precision    recall  f1-score   support\n",
      "\n",
      "           0       0.79      0.77      0.78     19020\n",
      "           1       0.74      0.76      0.75     16420\n",
      "\n",
      "    accuracy                           0.76     35440\n",
      "   macro avg       0.76      0.76      0.76     35440\n",
      "weighted avg       0.76      0.76      0.76     35440\n",
      "\n",
      "\n",
      "Confusion Matrix (Train):\n",
      " [[14620  4400]\n",
      " [ 4000 12420]]\n",
      "\n",
      "Classification Report (Validation):\n",
      "               precision    recall  f1-score   support\n",
      "\n",
      "           0       0.77      0.76      0.77      6268\n",
      "           1       0.73      0.75      0.74      5546\n",
      "\n",
      "    accuracy                           0.75     11814\n",
      "   macro avg       0.75      0.75      0.75     11814\n",
      "weighted avg       0.75      0.75      0.75     11814\n",
      "\n",
      "\n",
      "Confusion Matrix (Validation):\n",
      " [[4746 1522]\n",
      " [1385 4161]]\n",
      "\n",
      "Classification Report (Test):\n",
      "               precision    recall  f1-score   support\n",
      "\n",
      "           0       0.79      0.77      0.78      6407\n",
      "           1       0.73      0.75      0.74      5407\n",
      "\n",
      "    accuracy                           0.76     11814\n",
      "   macro avg       0.76      0.76      0.76     11814\n",
      "weighted avg       0.76      0.76      0.76     11814\n",
      "\n",
      "\n",
      "Confusion Matrix (Test):\n",
      " [[4917 1490]\n",
      " [1342 4065]]\n"
     ]
    }
   ],
   "source": [
    "print(\"Accuracy on training set: \", rf.score(X_train, y_train))\n",
    "print(\"Accuracy on validation set: \", rf.score(X_val, y_val))\n",
    "print(\"Accuracy on test set: \", rf.score(X_test, y_test))\n",
    "\n",
    "print(\"\\nClassification Report (Train):\\n\", classification_report(y_train, y_train_pred))\n",
    "print(\"\\nConfusion Matrix (Train):\\n\", confusion_matrix(y_train, y_train_pred))\n",
    "print(\"\\nClassification Report (Validation):\\n\", classification_report(y_val, y_val_pred))\n",
    "print(\"\\nConfusion Matrix (Validation):\\n\", confusion_matrix(y_val, y_val_pred))\n",
    "print(\"\\nClassification Report (Test):\\n\", classification_report(y_test, y_test_pred))\n",
    "print(\"\\nConfusion Matrix (Test):\\n\", confusion_matrix(y_test, y_test_pred))"
   ]
  },
  {
   "cell_type": "code",
   "execution_count": null,
   "metadata": {},
   "outputs": [],
   "source": []
  }
 ],
 "metadata": {
  "kernelspec": {
   "display_name": "Python 3",
   "language": "python",
   "name": "python3"
  },
  "language_info": {
   "codemirror_mode": {
    "name": "ipython",
    "version": 3
   },
   "file_extension": ".py",
   "mimetype": "text/x-python",
   "name": "python",
   "nbconvert_exporter": "python",
   "pygments_lexer": "ipython3",
   "version": "3.12.5"
  }
 },
 "nbformat": 4,
 "nbformat_minor": 2
}
