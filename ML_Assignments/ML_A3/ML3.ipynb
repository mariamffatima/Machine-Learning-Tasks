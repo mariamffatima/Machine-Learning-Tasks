{
 "cells": [
  {
   "cell_type": "markdown",
   "id": "339e9651-48e3-4632-b6a6-1ad3c7b4fb92",
   "metadata": {},
   "source": [
    "## disease detection"
   ]
  },
  {
   "cell_type": "code",
   "execution_count": 8,
   "id": "556aa002-1504-4d17-8b49-067592d19f8d",
   "metadata": {},
   "outputs": [
    {
     "name": "stdout",
     "output_type": "stream",
     "text": [
      "Probability of having the disease given a positive test result: 0.0009\n"
     ]
    }
   ],
   "source": [
    "p_pos_given_d = 0.009\n",
    "p_pos_given_not_d = 0.099\n",
    "p_d = 0.01\n",
    "p_not_d = 1 - p_d\n",
    "\n",
    "p_pos = (p_pos_given_d * p_d) + (p_pos_given_not_d * p_not_d)\n",
    "\n",
    "p_d_given_pos = (p_pos_given_d * p_d) / p_pos\n",
    "\n",
    "print(f\"Probability of having the disease given a positive test result: {p_d_given_pos:.4f}\")\n"
   ]
  },
  {
   "cell_type": "markdown",
   "id": "5047f5fb-08b4-4fab-8f24-2ba9b57f0afc",
   "metadata": {},
   "source": [
    "## spam detection"
   ]
  },
  {
   "cell_type": "code",
   "execution_count": 9,
   "id": "c39a3253-6019-42b4-b606-b6c50f0c78d3",
   "metadata": {},
   "outputs": [
    {
     "name": "stdout",
     "output_type": "stream",
     "text": [
      "Probability that an email is spam given it contains the word 'free': 0.9032\n"
     ]
    }
   ],
   "source": [
    "p_spam = 0.7\n",
    "p_low_priority = 0.2\n",
    "p_high_priority = 0.1\n",
    "\n",
    "p_free_given_spam = 0.6\n",
    "p_free_given_low = 0.2\n",
    "p_free_given_high = 0.05\n",
    "\n",
    "p_free = (p_free_given_spam * p_spam) + (p_free_given_low * p_low_priority) + (p_free_given_high * p_high_priority)\n",
    "\n",
    "p_spam_given_free = (p_free_given_spam * p_spam) / p_free\n",
    "\n",
    "print(f\"Probability that an email is spam given it contains the word 'free': {p_spam_given_free:.4f}\")\n"
   ]
  },
  {
   "cell_type": "markdown",
   "id": "58063e9b-7aa5-467e-9386-c2539fe9bdd5",
   "metadata": {},
   "source": [
    "## table"
   ]
  },
  {
   "cell_type": "code",
   "execution_count": 12,
   "id": "4c3b4e94-43ca-4e36-92cf-862804c2e063",
   "metadata": {},
   "outputs": [
    {
     "name": "stdout",
     "output_type": "stream",
     "text": [
      "Probability of Mileage Hi: 0.5\n",
      "Probability of Mileage Lo: 0.5\n",
      "\n",
      "Probability of Engine being Good given Mileage Hi: 0.5\n",
      "Probability of Engine being Bad given Mileage Hi: 0.5\n",
      "Probability of Engine being Good given Mileage Lo: 0.5\n",
      "Probability of Engine being Bad given Mileage Lo: 0.5\n",
      "\n",
      "Probability of AC Working: 0.625\n",
      "Probability of AC Broken: 0.375\n",
      "\n",
      "Conditional probabilities of Car Value (Hi/Lo) given Mileage, Engine, and AC:\n",
      "Hi, Good, Working: P(Hi)=0.4286, P(Lo)=0.5714\n",
      "Hi, Good, Broken: P(Hi)=0.3333, P(Lo)=0.6667\n",
      "Hi, Bad, Working: P(Hi)=0.1667, P(Lo)=0.8333\n",
      "Hi, Bad, Broken: P(Hi)=0.0000, P(Lo)=1.0000\n",
      "Lo, Good, Working: P(Hi)=1.0000, P(Lo)=0.0000\n",
      "Lo, Good, Broken: P(Hi)=0.8333, P(Lo)=0.1667\n",
      "Lo, Bad, Working: P(Hi)=0.3333, P(Lo)=0.6667\n",
      "Lo, Bad, Broken: P(Hi)=0.0000, P(Lo)=1.0000\n"
     ]
    }
   ],
   "source": [
    "# Probability table for Mileage\n",
    "p_mileage_hi = 4 / 8\n",
    "p_mileage_lo = 4 / 8\n",
    "\n",
    "# Probability table for Engine given Mileage\n",
    "p_engine_given_hi_good = 2 / 4\n",
    "p_engine_given_hi_bad = 2 / 4\n",
    "p_engine_given_lo_good = 2 / 4\n",
    "p_engine_given_lo_bad = 2 / 4\n",
    "\n",
    "# Probability table for Air Conditioner\n",
    "p_ac_working = 5 / 8\n",
    "p_ac_broken = 3 / 8\n",
    "\n",
    "# Conditional probability table for Car Value given Mileage, Engine, and Air Conditioner\n",
    "p_car_hi_given_hi_good_working = 3 / (3 + 4)\n",
    "p_car_lo_given_hi_good_working = 4 / (3 + 4)\n",
    "\n",
    "p_car_hi_given_hi_good_broken = 1 / (1 + 2)\n",
    "p_car_lo_given_hi_good_broken = 2 / (1 + 2)\n",
    "\n",
    "p_car_hi_given_hi_bad_working = 1 / (1 + 5)\n",
    "p_car_lo_given_hi_bad_working = 5 / (1 + 5)\n",
    "\n",
    "p_car_hi_given_hi_bad_broken = 0 / (0 + 4)\n",
    "p_car_lo_given_hi_bad_broken = 4 / (0 + 4)\n",
    "\n",
    "p_car_hi_given_lo_good_working = 9 / (9 + 0)\n",
    "p_car_lo_given_lo_good_working = 0 / (9 + 0)\n",
    "\n",
    "p_car_hi_given_lo_good_broken = 5 / (5 + 1)\n",
    "p_car_lo_given_lo_good_broken = 1 / (5 + 1)\n",
    "\n",
    "p_car_hi_given_lo_bad_working = 1 / (1 + 2)\n",
    "p_car_lo_given_lo_bad_working = 2 / (1 + 2)\n",
    "\n",
    "p_car_hi_given_lo_bad_broken = 0 / (0 + 2)\n",
    "p_car_lo_given_lo_bad_broken = 2 / (0 + 2)\n",
    "\n",
    "# Display results\n",
    "print(f\"Probability of Mileage Hi: {p_mileage_hi}\")\n",
    "print(f\"Probability of Mileage Lo: {p_mileage_lo}\")\n",
    "\n",
    "print(f\"\\nProbability of Engine being Good given Mileage Hi: {p_engine_given_hi_good}\")\n",
    "print(f\"Probability of Engine being Bad given Mileage Hi: {p_engine_given_hi_bad}\")\n",
    "print(f\"Probability of Engine being Good given Mileage Lo: {p_engine_given_lo_good}\")\n",
    "print(f\"Probability of Engine being Bad given Mileage Lo: {p_engine_given_lo_bad}\")\n",
    "\n",
    "print(f\"\\nProbability of AC Working: {p_ac_working}\")\n",
    "print(f\"Probability of AC Broken: {p_ac_broken}\")\n",
    "\n",
    "print(f\"\\nConditional probabilities of Car Value (Hi/Lo) given Mileage, Engine, and AC:\")\n",
    "print(f\"Hi, Good, Working: P(Hi)={p_car_hi_given_hi_good_working:.4f}, P(Lo)={p_car_lo_given_hi_good_working:.4f}\")\n",
    "print(f\"Hi, Good, Broken: P(Hi)={p_car_hi_given_hi_good_broken:.4f}, P(Lo)={p_car_lo_given_hi_good_broken:.4f}\")\n",
    "print(f\"Hi, Bad, Working: P(Hi)={p_car_hi_given_hi_bad_working:.4f}, P(Lo)={p_car_lo_given_hi_bad_working:.4f}\")\n",
    "print(f\"Hi, Bad, Broken: P(Hi)={p_car_hi_given_hi_bad_broken:.4f}, P(Lo)={p_car_lo_given_hi_bad_broken:.4f}\")\n",
    "print(f\"Lo, Good, Working: P(Hi)={p_car_hi_given_lo_good_working:.4f}, P(Lo)={p_car_lo_given_lo_good_working:.4f}\")\n",
    "print(f\"Lo, Good, Broken: P(Hi)={p_car_hi_given_lo_good_broken:.4f}, P(Lo)={p_car_lo_given_lo_good_broken:.4f}\")\n",
    "print(f\"Lo, Bad, Working: P(Hi)={p_car_hi_given_lo_bad_working:.4f}, P(Lo)={p_car_lo_given_lo_bad_working:.4f}\")\n",
    "print(f\"Lo, Bad, Broken: P(Hi)={p_car_hi_given_lo_bad_broken:.4f}, P(Lo)={p_car_lo_given_lo_bad_broken:.4f}\")\n"
   ]
  },
  {
   "cell_type": "markdown",
   "id": "5ef56079-dd68-48e3-83ea-68895e89b600",
   "metadata": {},
   "source": [
    "## bayesian classification"
   ]
  },
  {
   "cell_type": "code",
   "execution_count": 13,
   "id": "a8b3b0d1-2401-4fec-8ee0-919ecdb9aad6",
   "metadata": {},
   "outputs": [
    {
     "name": "stdout",
     "output_type": "stream",
     "text": [
      "P(+|x): 0.8888888888888888\n",
      "P(-|x): 0.1111111111111111\n",
      "Classification: +\n"
     ]
    }
   ],
   "source": [
    "p1p = 4 / 5\n",
    "p1m = 1 / 5\n",
    "\n",
    "p2p = 4 / 5\n",
    "p2m = 1 / 5\n",
    "\n",
    "p3p = 1 / 3\n",
    "p3m = 2 / 3\n",
    "\n",
    "pp = p1p * p2p * p3p\n",
    "pm = p1m * p2m * p3m\n",
    "\n",
    "psum = pp + pm\n",
    "\n",
    "p_plus = pp / psum\n",
    "p_minus = pm / psum\n",
    "\n",
    "print(f\"P(+|x): {p_plus}\")\n",
    "print(f\"P(-|x): {p_minus}\")\n",
    "\n",
    "print(\"Classification:\", \"+\" if p_plus > p_minus else \"-\")\n"
   ]
  },
  {
   "cell_type": "code",
   "execution_count": null,
   "id": "e77e10a8-0834-47e8-9313-031885d441de",
   "metadata": {},
   "outputs": [],
   "source": []
  }
 ],
 "metadata": {
  "kernelspec": {
   "display_name": "Python 3 (ipykernel)",
   "language": "python",
   "name": "python3"
  },
  "language_info": {
   "codemirror_mode": {
    "name": "ipython",
    "version": 3
   },
   "file_extension": ".py",
   "mimetype": "text/x-python",
   "name": "python",
   "nbconvert_exporter": "python",
   "pygments_lexer": "ipython3",
   "version": "3.12.4"
  }
 },
 "nbformat": 4,
 "nbformat_minor": 5
}
