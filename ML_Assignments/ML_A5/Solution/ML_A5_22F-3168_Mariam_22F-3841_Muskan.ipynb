{
 "cells": [
  {
   "cell_type": "markdown",
   "metadata": {},
   "source": [
    "# Q no 1: Support Vector Machine\n",
    "## b part"
   ]
  },
  {
   "cell_type": "code",
   "execution_count": 35,
   "metadata": {},
   "outputs": [
    {
     "name": "stdout",
     "output_type": "stream",
     "text": [
      "Requirement already satisfied: python-mnist in c:\\users\\fatimah\\appdata\\local\\programs\\python\\python312\\lib\\site-packages (0.7)\n",
      "Requirement already satisfied: numpy in c:\\users\\fatimah\\appdata\\local\\programs\\python\\python312\\lib\\site-packages (1.26.4)\n",
      "Requirement already satisfied: scikit-learn in c:\\users\\fatimah\\appdata\\local\\programs\\python\\python312\\lib\\site-packages (1.4.2)\n",
      "Requirement already satisfied: scipy>=1.6.0 in c:\\users\\fatimah\\appdata\\local\\programs\\python\\python312\\lib\\site-packages (from scikit-learn) (1.12.0)\n",
      "Requirement already satisfied: joblib>=1.2.0 in c:\\users\\fatimah\\appdata\\local\\programs\\python\\python312\\lib\\site-packages (from scikit-learn) (1.4.2)\n",
      "Requirement already satisfied: threadpoolctl>=2.0.0 in c:\\users\\fatimah\\appdata\\local\\programs\\python\\python312\\lib\\site-packages (from scikit-learn) (3.5.0)\n"
     ]
    },
    {
     "name": "stderr",
     "output_type": "stream",
     "text": [
      "\n",
      "[notice] A new release of pip is available: 24.0 -> 24.3.1\n",
      "[notice] To update, run: python.exe -m pip install --upgrade pip\n"
     ]
    },
    {
     "name": "stdout",
     "output_type": "stream",
     "text": [
      "Requirement already satisfied: idx2numpy in c:\\users\\fatimah\\appdata\\local\\programs\\python\\python312\\lib\\site-packages (1.2.3)\n",
      "Requirement already satisfied: numpy in c:\\users\\fatimah\\appdata\\local\\programs\\python\\python312\\lib\\site-packages (from idx2numpy) (1.26.4)\n",
      "Requirement already satisfied: six in c:\\users\\fatimah\\appdata\\local\\programs\\python\\python312\\lib\\site-packages (from idx2numpy) (1.16.0)\n"
     ]
    },
    {
     "name": "stderr",
     "output_type": "stream",
     "text": [
      "\n",
      "[notice] A new release of pip is available: 24.0 -> 24.3.1\n",
      "[notice] To update, run: python.exe -m pip install --upgrade pip\n",
      "ERROR: Could not find a version that satisfies the requirement sciket-learn (from versions: none)\n",
      "ERROR: No matching distribution found for sciket-learn\n",
      "\n",
      "[notice] A new release of pip is available: 24.0 -> 24.3.1\n",
      "[notice] To update, run: python.exe -m pip install --upgrade pip\n"
     ]
    }
   ],
   "source": [
    "!pip3 install python-mnist numpy scikit-learn\n",
    "!pip3 install idx2numpy\n",
    "!pip3 install sciket-learn"
   ]
  },
  {
   "cell_type": "code",
   "execution_count": 2,
   "metadata": {},
   "outputs": [],
   "source": [
    "import idx2numpy\n",
    "import numpy as np\n",
    "from sklearn.svm import SVC\n",
    "from sklearn.metrics import accuracy_score\n",
    "from sklearn.preprocessing import StandardScaler\n",
    "from sklearn.model_selection import train_test_split"
   ]
  },
  {
   "cell_type": "code",
   "execution_count": 3,
   "metadata": {},
   "outputs": [],
   "source": [
    "train_images = idx2numpy.convert_from_file('train-images.idx3-ubyte')\n",
    "train_labels = idx2numpy.convert_from_file('train-labels.idx1-ubyte')\n",
    "\n",
    "test_images = idx2numpy.convert_from_file('t10k-images.idx3-ubyte')\n",
    "test_labels = idx2numpy.convert_from_file('t10k-labels.idx1-ubyte')"
   ]
  },
  {
   "cell_type": "code",
   "execution_count": 4,
   "metadata": {},
   "outputs": [
    {
     "name": "stdout",
     "output_type": "stream",
     "text": [
      "Training images shape: (60000, 28, 28)\n",
      "Training labels shape: (60000,)\n",
      "Test images shape: (10000, 28, 28)\n",
      "Test labels shape: (10000,)\n"
     ]
    }
   ],
   "source": [
    "print(f\"Training images shape: {train_images.shape}\")\n",
    "print(f\"Training labels shape: {train_labels.shape}\")\n",
    "print(f\"Test images shape: {test_images.shape}\")\n",
    "print(f\"Test labels shape: {test_labels.shape}\")"
   ]
  },
  {
   "cell_type": "code",
   "execution_count": 5,
   "metadata": {},
   "outputs": [
    {
     "data": {
      "image/png": "[encoded data removed]",
      "text/plain": [
       "<Figure size 640x480 with 1 Axes>"
      ]
     },
     "metadata": {},
     "output_type": "display_data"
    }
   ],
   "source": [
    "import matplotlib.pyplot as plt\n",
    "\n",
    "#Show Grayscale Image \n",
    "plt.imshow(train_images[0], cmap='gray')\n",
    "plt.title(f\"Label: {train_labels[0]}\")\n",
    "plt.show()\n"
   ]
  },
  {
   "cell_type": "code",
   "execution_count": 6,
   "metadata": {},
   "outputs": [],
   "source": [
    "# Reshape the data into 2D arrays (flatten 28x28 images to 784 features)\n",
    "X_train = train_images.reshape(train_images.shape[0], -1).astype('float32')\n",
    "X_test = test_images.reshape(test_images.shape[0], -1).astype('float32')\n",
    "y_train = train_labels\n",
    "y_test = test_labels\n",
    "\n",
    "# Scale the data\n",
    "scaler = StandardScaler()\n",
    "X_train_scaled = scaler.fit_transform(X_train)\n",
    "X_test_scaled = scaler.transform(X_test)"
   ]
  },
  {
   "cell_type": "code",
   "execution_count": 6,
   "metadata": {},
   "outputs": [
    {
     "name": "stdout",
     "output_type": "stream",
     "text": [
      "Linear SVM Training Accuracy: 98.21%\n"
     ]
    }
   ],
   "source": [
    "# Train a Linear SVM (One-vs-All) with scale\n",
    "linear_svm = SVC(kernel='linear', decision_function_shape='ovr')\n",
    "linear_svm.fit(X_train_scaled, y_train)\n",
    "\n",
    "# Training accuracy\n",
    "train_accuracy = linear_svm.score(X_train_scaled, y_train)\n",
    "print(f\"Linear SVM Training Accuracy: {train_accuracy * 100:.2f}%\")"
   ]
  },
  {
   "cell_type": "code",
   "execution_count": 7,
   "metadata": {},
   "outputs": [
    {
     "name": "stdout",
     "output_type": "stream",
     "text": [
      "RBF Kernel SVM Training Accuracy: 98.66%\n"
     ]
    }
   ],
   "source": [
    "# Train a Non-linear SVM (RBF Kernel)\n",
    "rbf_svm = SVC(kernel='rbf', decision_function_shape='ovr')\n",
    "rbf_svm.fit(X_train_scaled, y_train)\n",
    "\n",
    "# RBF Kernel training accuracy\n",
    "rbf_train_accuracy = rbf_svm.score(X_train_scaled, y_train)\n",
    "print(f\"RBF Kernel SVM Training Accuracy: {rbf_train_accuracy * 100:.2f}%\")"
   ]
  },
  {
   "cell_type": "code",
   "execution_count": null,
   "metadata": {},
   "outputs": [
    {
     "name": "stdout",
     "output_type": "stream",
     "text": [
      "Linear SVM Test Accuracy: 92.93%\n",
      "RBF Kernel SVM Test Accuracy: 96.60%\n"
     ]
    }
   ],
   "source": [
    "# Test accuracy\n",
    "L_test_accuracy = linear_svm.score(X_test_scaled, y_test)\n",
    "print(f\"Linear SVM Test Accuracy: {L_test_accuracy * 100:.2f}%\")\n",
    "# RBF Kernel test accuracy\n",
    "rbf_test_accuracy = rbf_svm.score(X_test_scaled, y_test)\n",
    "print(f\"RBF Kernel SVM Test Accuracy: {rbf_test_accuracy * 100:.2f}%\")"
   ]
  },
  {
   "cell_type": "code",
   "execution_count": null,
   "metadata": {},
   "outputs": [],
   "source": []
  },
  {
   "cell_type": "markdown",
   "metadata": {},
   "source": [
    "# Q no 2\n",
    "# a: ANN"
   ]
  },
  {
   "cell_type": "code",
   "execution_count": 7,
   "metadata": {},
   "outputs": [
    {
     "name": "stderr",
     "output_type": "stream",
     "text": [
      "c:\\Users\\Fatimah\\AppData\\Local\\Programs\\Python\\Python312\\Lib\\site-packages\\keras\\src\\layers\\core\\dense.py:85: UserWarning: Do not pass an `input_shape`/`input_dim` argument to a layer. When using Sequential models, prefer using an `Input(shape)` object as the first layer in the model instead.\n",
      "  super().__init__(activity_regularizer=activity_regularizer, **kwargs)\n"
     ]
    },
    {
     "name": "stdout",
     "output_type": "stream",
     "text": [
      "Epoch 1/10\n",
      "\u001b[1m375/375\u001b[0m \u001b[32m━━━━━━━━━━━━━━━━━━━━\u001b[0m\u001b[37m\u001b[0m \u001b[1m2s\u001b[0m 4ms/step - accuracy: 0.8121 - loss: 0.6776 - val_accuracy: 0.9482 - val_loss: 0.1803\n",
      "Epoch 2/10\n",
      "\u001b[1m375/375\u001b[0m \u001b[32m━━━━━━━━━━━━━━━━━━━━\u001b[0m\u001b[37m\u001b[0m \u001b[1m1s\u001b[0m 3ms/step - accuracy: 0.9527 - loss: 0.1628 - val_accuracy: 0.9617 - val_loss: 0.1299\n",
      "Epoch 3/10\n",
      "\u001b[1m375/375\u001b[0m \u001b[32m━━━━━━━━━━━━━━━━━━━━\u001b[0m\u001b[37m\u001b[0m \u001b[1m1s\u001b[0m 4ms/step - accuracy: 0.9689 - loss: 0.1054 - val_accuracy: 0.9667 - val_loss: 0.1135\n",
      "Epoch 4/10\n",
      "\u001b[1m375/375\u001b[0m \u001b[32m━━━━━━━━━━━━━━━━━━━━\u001b[0m\u001b[37m\u001b[0m \u001b[1m1s\u001b[0m 3ms/step - accuracy: 0.9760 - loss: 0.0783 - val_accuracy: 0.9699 - val_loss: 0.0980\n",
      "Epoch 5/10\n",
      "\u001b[1m375/375\u001b[0m \u001b[32m━━━━━━━━━━━━━━━━━━━━\u001b[0m\u001b[37m\u001b[0m \u001b[1m1s\u001b[0m 4ms/step - accuracy: 0.9824 - loss: 0.0606 - val_accuracy: 0.9697 - val_loss: 0.1019\n",
      "Epoch 6/10\n",
      "\u001b[1m375/375\u001b[0m \u001b[32m━━━━━━━━━━━━━━━━━━━━\u001b[0m\u001b[37m\u001b[0m \u001b[1m1s\u001b[0m 3ms/step - accuracy: 0.9858 - loss: 0.0459 - val_accuracy: 0.9732 - val_loss: 0.0892\n",
      "Epoch 7/10\n",
      "\u001b[1m375/375\u001b[0m \u001b[32m━━━━━━━━━━━━━━━━━━━━\u001b[0m\u001b[37m\u001b[0m \u001b[1m1s\u001b[0m 3ms/step - accuracy: 0.9893 - loss: 0.0367 - val_accuracy: 0.9740 - val_loss: 0.0914\n",
      "Epoch 8/10\n",
      "\u001b[1m375/375\u001b[0m \u001b[32m━━━━━━━━━━━━━━━━━━━━\u001b[0m\u001b[37m\u001b[0m \u001b[1m1s\u001b[0m 4ms/step - accuracy: 0.9899 - loss: 0.0323 - val_accuracy: 0.9738 - val_loss: 0.0926\n",
      "Epoch 9/10\n",
      "\u001b[1m375/375\u001b[0m \u001b[32m━━━━━━━━━━━━━━━━━━━━\u001b[0m\u001b[37m\u001b[0m \u001b[1m1s\u001b[0m 3ms/step - accuracy: 0.9930 - loss: 0.0234 - val_accuracy: 0.9741 - val_loss: 0.1006\n",
      "Epoch 10/10\n",
      "\u001b[1m375/375\u001b[0m \u001b[32m━━━━━━━━━━━━━━━━━━━━\u001b[0m\u001b[37m\u001b[0m \u001b[1m1s\u001b[0m 3ms/step - accuracy: 0.9937 - loss: 0.0216 - val_accuracy: 0.9757 - val_loss: 0.0898\n",
      "\u001b[1m313/313\u001b[0m \u001b[32m━━━━━━━━━━━━━━━━━━━━\u001b[0m\u001b[37m\u001b[0m \u001b[1m1s\u001b[0m 2ms/step - accuracy: 0.9721 - loss: 0.0924\n",
      "ANN Test Accuracy: 97.62%\n"
     ]
    }
   ],
   "source": [
    "import tensorflow as tf\n",
    "from tensorflow.keras.models import Sequential\n",
    "from tensorflow.keras.layers import Dense, Flatten\n",
    "from tensorflow.keras.utils import to_categorical\n",
    "\n",
    "# Load the MNIST dataset\n",
    "train_images = idx2numpy.convert_from_file('train-images.idx3-ubyte')\n",
    "train_labels = idx2numpy.convert_from_file('train-labels.idx1-ubyte')\n",
    "test_images = idx2numpy.convert_from_file('t10k-images.idx3-ubyte')\n",
    "test_labels = idx2numpy.convert_from_file('t10k-labels.idx1-ubyte')\n",
    "\n",
    "# Preprocess data\n",
    "X_train = train_images.reshape(train_images.shape[0], -1).astype('float32') / 255\n",
    "X_test = test_images.reshape(test_images.shape[0], -1).astype('float32') / 255\n",
    "y_train = to_categorical(train_labels, 10)\n",
    "y_test = to_categorical(test_labels, 10)\n",
    "\n",
    "# Define ANN architecture\n",
    "model = Sequential([\n",
    "    Dense(128, activation='relu', input_shape=(784,)),\n",
    "    Dense(64, activation='relu'),\n",
    "    Dense(10, activation='softmax')\n",
    "])\n",
    "\n",
    "# Compile the model\n",
    "model.compile(optimizer='adam', loss='categorical_crossentropy', metrics=['accuracy'])\n",
    "\n",
    "# Train the model\n",
    "model.fit(X_train, y_train, epochs=10, batch_size=128, validation_split=0.2)\n",
    "\n",
    "# Evaluate the model\n",
    "loss, accuracy = model.evaluate(X_test, y_test)\n",
    "print(f\"ANN Test Accuracy: {accuracy * 100:.2f}%\")\n"
   ]
  },
  {
   "cell_type": "markdown",
   "metadata": {},
   "source": [
    "## b: CNN"
   ]
  },
  {
   "cell_type": "code",
   "execution_count": 8,
   "metadata": {},
   "outputs": [
    {
     "name": "stdout",
     "output_type": "stream",
     "text": [
      "Epoch 1/10\n"
     ]
    },
    {
     "name": "stderr",
     "output_type": "stream",
     "text": [
      "c:\\Users\\Fatimah\\AppData\\Local\\Programs\\Python\\Python312\\Lib\\site-packages\\keras\\src\\layers\\convolutional\\base_conv.py:99: UserWarning: Do not pass an `input_shape`/`input_dim` argument to a layer. When using Sequential models, prefer using an `Input(shape)` object as the first layer in the model instead.\n",
      "  super().__init__(\n"
     ]
    },
    {
     "name": "stdout",
     "output_type": "stream",
     "text": [
      "\u001b[1m375/375\u001b[0m \u001b[32m━━━━━━━━━━━━━━━━━━━━\u001b[0m\u001b[37m\u001b[0m \u001b[1m15s\u001b[0m 37ms/step - accuracy: 0.8028 - loss: 0.6374 - val_accuracy: 0.9774 - val_loss: 0.0772\n",
      "Epoch 2/10\n",
      "\u001b[1m375/375\u001b[0m \u001b[32m━━━━━━━━━━━━━━━━━━━━\u001b[0m\u001b[37m\u001b[0m \u001b[1m14s\u001b[0m 36ms/step - accuracy: 0.9702 - loss: 0.0965 - val_accuracy: 0.9837 - val_loss: 0.0558\n",
      "Epoch 3/10\n",
      "\u001b[1m375/375\u001b[0m \u001b[32m━━━━━━━━━━━━━━━━━━━━\u001b[0m\u001b[37m\u001b[0m \u001b[1m13s\u001b[0m 36ms/step - accuracy: 0.9785 - loss: 0.0671 - val_accuracy: 0.9872 - val_loss: 0.0451\n",
      "Epoch 4/10\n",
      "\u001b[1m375/375\u001b[0m \u001b[32m━━━━━━━━━━━━━━━━━━━━\u001b[0m\u001b[37m\u001b[0m \u001b[1m13s\u001b[0m 35ms/step - accuracy: 0.9845 - loss: 0.0500 - val_accuracy: 0.9883 - val_loss: 0.0406\n",
      "Epoch 5/10\n",
      "\u001b[1m375/375\u001b[0m \u001b[32m━━━━━━━━━━━━━━━━━━━━\u001b[0m\u001b[37m\u001b[0m \u001b[1m13s\u001b[0m 35ms/step - accuracy: 0.9850 - loss: 0.0470 - val_accuracy: 0.9897 - val_loss: 0.0373\n",
      "Epoch 6/10\n",
      "\u001b[1m375/375\u001b[0m \u001b[32m━━━━━━━━━━━━━━━━━━━━\u001b[0m\u001b[37m\u001b[0m \u001b[1m13s\u001b[0m 36ms/step - accuracy: 0.9863 - loss: 0.0440 - val_accuracy: 0.9902 - val_loss: 0.0342\n",
      "Epoch 7/10\n",
      "\u001b[1m375/375\u001b[0m \u001b[32m━━━━━━━━━━━━━━━━━━━━\u001b[0m\u001b[37m\u001b[0m \u001b[1m17s\u001b[0m 45ms/step - accuracy: 0.9893 - loss: 0.0332 - val_accuracy: 0.9901 - val_loss: 0.0343\n",
      "Epoch 8/10\n",
      "\u001b[1m375/375\u001b[0m \u001b[32m━━━━━━━━━━━━━━━━━━━━\u001b[0m\u001b[37m\u001b[0m \u001b[1m13s\u001b[0m 35ms/step - accuracy: 0.9897 - loss: 0.0318 - val_accuracy: 0.9915 - val_loss: 0.0311\n",
      "Epoch 9/10\n",
      "\u001b[1m375/375\u001b[0m \u001b[32m━━━━━━━━━━━━━━━━━━━━\u001b[0m\u001b[37m\u001b[0m \u001b[1m12s\u001b[0m 33ms/step - accuracy: 0.9909 - loss: 0.0271 - val_accuracy: 0.9907 - val_loss: 0.0353\n",
      "Epoch 10/10\n",
      "\u001b[1m375/375\u001b[0m \u001b[32m━━━━━━━━━━━━━━━━━━━━\u001b[0m\u001b[37m\u001b[0m \u001b[1m12s\u001b[0m 32ms/step - accuracy: 0.9914 - loss: 0.0261 - val_accuracy: 0.9918 - val_loss: 0.0318\n",
      "\u001b[1m313/313\u001b[0m \u001b[32m━━━━━━━━━━━━━━━━━━━━\u001b[0m\u001b[37m\u001b[0m \u001b[1m1s\u001b[0m 4ms/step - accuracy: 0.9899 - loss: 0.0316\n",
      "CNN Test Accuracy: 99.25%\n"
     ]
    }
   ],
   "source": [
    "from tensorflow.keras.layers import Conv2D, MaxPooling2D, Dropout\n",
    "\n",
    "# Preprocess data for CNN\n",
    "X_train = train_images.reshape(train_images.shape[0], 28, 28, 1).astype('float32') / 255\n",
    "X_test = test_images.reshape(test_images.shape[0], 28, 28, 1).astype('float32') / 255\n",
    "y_train = to_categorical(train_labels, 10)\n",
    "y_test = to_categorical(test_labels, 10)\n",
    "\n",
    "# Define CNN architecture\n",
    "cnn_model = Sequential([\n",
    "    Conv2D(32, (3, 3), activation='relu', input_shape=(28, 28, 1)),\n",
    "    MaxPooling2D((2, 2)),\n",
    "    Conv2D(64, (3, 3), activation='relu'),\n",
    "    MaxPooling2D((2, 2)),\n",
    "    Dropout(0.5),\n",
    "    Flatten(),\n",
    "    Dense(128, activation='relu'),\n",
    "    Dense(10, activation='softmax')\n",
    "])\n",
    "\n",
    "# Compile the model\n",
    "cnn_model.compile(optimizer='adam', loss='categorical_crossentropy', metrics=['accuracy'])\n",
    "\n",
    "# Train the model\n",
    "cnn_model.fit(X_train, y_train, epochs=10, batch_size=128, validation_split=0.2)\n",
    "\n",
    "# Evaluate the model\n",
    "cnn_loss, cnn_accuracy = cnn_model.evaluate(X_test, y_test)\n",
    "print(f\"CNN Test Accuracy: {cnn_accuracy * 100:.2f}%\")\n"
   ]
  },
  {
   "cell_type": "markdown",
   "metadata": {},
   "source": [
    "# Q no 3"
   ]
  },
  {
   "cell_type": "code",
   "execution_count": 8,
   "metadata": {},
   "outputs": [
    {
     "name": "stdout",
     "output_type": "stream",
     "text": [
      "\n",
      "Testing with sigmoid in hidden and sigmoid in output:\n",
      "Accuracy: 93.33333333333333%\n",
      "\n",
      "Testing with relu in hidden and sigmoid in output:\n",
      "Accuracy: 100.0%\n",
      "\n",
      "Testing with tanh in hidden and sigmoid in output:\n",
      "Accuracy: 93.33333333333333%\n"
     ]
    }
   ],
   "source": [
    "import random\n",
    "import math\n",
    "\n",
    "def sigmoid(x):\n",
    "    return 1 / (1 + math.exp(-x))\n",
    "\n",
    "def sigmoid_derivative(x):\n",
    "    return x * (1 - x)\n",
    "\n",
    "def relu(x):\n",
    "    return max(0, x)\n",
    "\n",
    "def relu_derivative(x):\n",
    "    return 1 if x > 0 else 0\n",
    "\n",
    "def tanh(x):\n",
    "    return math.tanh(x)\n",
    "\n",
    "def tanh_derivative(x):\n",
    "    return 1 - x ** 2\n",
    "\n",
    "def initialize_weights(input_size, hidden_size, output_size):\n",
    "    weights_input_hidden = [[random.uniform(-1, 1) for _ in range(hidden_size)] for _ in range(input_size)]\n",
    "    weights_hidden_output = [random.uniform(-1, 1) for _ in range(hidden_size)]\n",
    "    bias_hidden = [random.uniform(-1, 1) for _ in range(hidden_size)]\n",
    "    bias_output = random.uniform(-1, 1)\n",
    "    return weights_input_hidden, weights_hidden_output, bias_hidden, bias_output\n",
    "\n",
    "# Forward pass\n",
    "def forward_pass(inputs, weights_input_hidden, weights_hidden_output, bias_hidden, bias_output, activation_hidden='sigmoid', activation_output='sigmoid'):\n",
    "    hidden_layer = []\n",
    "    for i in range(len(weights_input_hidden[0])):  \n",
    "        weighted_sum = sum(inputs[j] * weights_input_hidden[j][i] for j in range(len(inputs))) + bias_hidden[i]\n",
    "        if activation_hidden == 'sigmoid':\n",
    "            hidden_layer.append(sigmoid(weighted_sum))\n",
    "        elif activation_hidden == 'relu':\n",
    "            hidden_layer.append(relu(weighted_sum))\n",
    "        elif activation_hidden == 'tanh':\n",
    "            hidden_layer.append(tanh(weighted_sum))\n",
    "\n",
    "    weighted_sum_output = sum(hidden_layer[i] * weights_hidden_output[i] for i in range(len(hidden_layer))) + bias_output\n",
    "    if activation_output == 'sigmoid':\n",
    "        output = sigmoid(weighted_sum_output)\n",
    "    elif activation_output == 'relu':\n",
    "        output = relu(weighted_sum_output)\n",
    "    elif activation_output == 'tanh':\n",
    "        output = tanh(weighted_sum_output)\n",
    "    \n",
    "    return hidden_layer, output\n",
    "\n",
    "def backward_pass(inputs, hidden_layer, output, expected, weights_input_hidden, weights_hidden_output, bias_hidden, bias_output, learning_rate, activation_hidden='sigmoid', activation_output='sigmoid'):\n",
    "    output_error = expected - output\n",
    "    if activation_output == 'sigmoid':\n",
    "        output_delta = output_error * sigmoid_derivative(output)\n",
    "    elif activation_output == 'relu':\n",
    "        output_delta = output_error * relu_derivative(output)\n",
    "    elif activation_output == 'tanh':\n",
    "        output_delta = output_error * tanh_derivative(output)\n",
    "\n",
    "    # Calculate the deltas for the hidden layer\n",
    "    hidden_deltas = []\n",
    "    for i in range(len(hidden_layer)):  # For each hidden neuron\n",
    "        if activation_hidden == 'sigmoid':\n",
    "            hidden_deltas.append(output_delta * weights_hidden_output[i] * sigmoid_derivative(hidden_layer[i]))\n",
    "        elif activation_hidden == 'relu':\n",
    "            hidden_deltas.append(output_delta * weights_hidden_output[i] * relu_derivative(hidden_layer[i]))\n",
    "        elif activation_hidden == 'tanh':\n",
    "            hidden_deltas.append(output_delta * weights_hidden_output[i] * tanh_derivative(hidden_layer[i]))\n",
    "\n",
    "    for i in range(len(weights_hidden_output)):\n",
    "        weights_hidden_output[i] += learning_rate * hidden_layer[i] * output_delta\n",
    "    bias_output += learning_rate * output_delta\n",
    "\n",
    "    for i in range(len(weights_input_hidden)):  \n",
    "        for j in range(len(weights_input_hidden[i])): \n",
    "            weights_input_hidden[i][j] += learning_rate * inputs[i] * hidden_deltas[j]\n",
    "    for j in range(len(bias_hidden)):  \n",
    "        bias_hidden[j] += learning_rate * hidden_deltas[j]\n",
    "\n",
    "    return weights_input_hidden, weights_hidden_output, bias_hidden, bias_output\n",
    "\n",
    "# Training function\n",
    "def train(X, Y, input_size, hidden_size, output_size, epochs, learning_rate, activation_hidden='sigmoid', activation_output='sigmoid'):\n",
    "    weights_input_hidden, weights_hidden_output, bias_hidden, bias_output = initialize_weights(input_size, hidden_size, output_size)\n",
    "\n",
    "    for epoch in range(epochs):\n",
    "        for inputs, expected in zip(X, Y):\n",
    "            hidden_layer, output = forward_pass(inputs, weights_input_hidden, weights_hidden_output, bias_hidden, bias_output, activation_hidden, activation_output)\n",
    "            weights_input_hidden, weights_hidden_output, bias_hidden, bias_output = backward_pass(\n",
    "                inputs, hidden_layer, output, expected, weights_input_hidden, weights_hidden_output, bias_hidden, bias_output, learning_rate, activation_hidden, activation_output\n",
    "            )\n",
    "    return weights_input_hidden, weights_hidden_output, bias_hidden, bias_output\n",
    "\n",
    "# Prediction function\n",
    "def predict(X, weights_input_hidden, weights_hidden_output, bias_hidden, bias_output, activation_hidden='sigmoid', activation_output='sigmoid'):\n",
    "    predictions = []\n",
    "    for inputs in X:\n",
    "        _, output = forward_pass(inputs, weights_input_hidden, weights_hidden_output, bias_hidden, bias_output, activation_hidden, activation_output)\n",
    "        predictions.append(1 if output > 0.5 else 0)\n",
    "    return predictions\n",
    "\n",
    "# Example dataset\n",
    "data = [\n",
    "    [0, 0, 0, 1, 0, 1],\n",
    "    [1, 0, 0, 0, 1, 1],\n",
    "    [0, 1, 0, 1, 1, 0],\n",
    "    [0, 0, 1, 1, 1, 0],\n",
    "    [1, 1, 0, 0, 0, 0],\n",
    "    [1, 0, 1, 0, 1, 1],\n",
    "    [0, 1, 1, 0, 1, 0],\n",
    "    [1, 1, 1, 0, 0, 1],\n",
    "    [0, 0, 0, 0, 1, 0],\n",
    "    [0, 0, 1, 0, 0, 1],\n",
    "    [0, 1, 1, 1, 0, 1],\n",
    "    [1, 1, 1, 1, 0, 1],\n",
    "    [0, 0, 0, 0, 0, 0],\n",
    "    [0, 1, 1, 1, 1, 1],\n",
    "    [1, 1, 1, 1, 1, 1],\n",
    "]\n",
    "\n",
    "X = [row[:-1] for row in data]\n",
    "Y = [row[-1] for row in data]\n",
    "\n",
    "input_size = 5\n",
    "hidden_size = 4\n",
    "output_size = 1\n",
    "epochs = 1000\n",
    "learning_rate = 0.1\n",
    "activation_combinations = [\n",
    "    ('sigmoid', 'sigmoid'),\n",
    "    ('relu', 'sigmoid'),\n",
    "    ('tanh', 'sigmoid'),\n",
    "]\n",
    "\n",
    "for activation_hidden, activation_output in activation_combinations:\n",
    "    print(f\"\\nTesting with {activation_hidden} in hidden and {activation_output} in output:\")\n",
    "    weights_input_hidden, weights_hidden_output, bias_hidden, bias_output = train(X, Y, input_size, hidden_size, output_size, epochs, learning_rate, activation_hidden, activation_output)\n",
    "    predictions = predict(X, weights_input_hidden, weights_hidden_output, bias_hidden, bias_output, activation_hidden, activation_output)\n",
    "    \n",
    "    accuracy = sum([1 for pred, true in zip(predictions, Y) if pred == true]) / len(Y) * 100\n",
    "    print(f\"Accuracy: {accuracy}%\")\n"
   ]
  },
  {
   "cell_type": "code",
   "execution_count": null,
   "metadata": {},
   "outputs": [],
   "source": []
  }
 ],
 "metadata": {
  "kernelspec": {
   "display_name": "Python 3",
   "language": "python",
   "name": "python3"
  },
  "language_info": {
   "codemirror_mode": {
    "name": "ipython",
    "version": 3
   },
   "file_extension": ".py",
   "mimetype": "text/x-python",
   "name": "python",
   "nbconvert_exporter": "python",
   "pygments_lexer": "ipython3",
   "version": "3.12.2"
  }
 },
 "nbformat": 4,
 "nbformat_minor": 2
}
